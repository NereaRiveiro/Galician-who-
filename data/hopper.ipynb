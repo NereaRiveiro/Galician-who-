{
 "cells": [
  {
   "attachments": {},
   "cell_type": "markdown",
   "metadata": {},
   "source": [
    "EDWARD HOPPER"
   ]
  },
  {
   "cell_type": "code",
   "execution_count": 19,
   "metadata": {},
   "outputs": [
    {
     "name": "stderr",
     "output_type": "stream",
     "text": [
      "[WDM] - Downloading: 100%|██████████| 6.81M/6.81M [00:02<00:00, 2.71MB/s]\n"
     ]
    }
   ],
   "source": [
    "from selenium import webdriver\n",
    "import pandas as pd\n",
    "from selenium.webdriver.chrome.options import Options\n",
    "from webdriver_manager.chrome import ChromeDriverManager\n",
    "from selenium.webdriver.common.by import By \n",
    "import time\n",
    "import warnings\n",
    "warnings.filterwarnings('ignore')\n",
    "from selenium.webdriver.common.keys import Keys  \n",
    "import re\n",
    "import urllib.request\n",
    "PATH = ChromeDriverManager().install()"
   ]
  },
  {
   "cell_type": "code",
   "execution_count": 20,
   "metadata": {},
   "outputs": [],
   "source": [
    "opciones=Options()\n",
    "\n",
    "opciones.add_experimental_option('excludeSwitches', ['enable-automation'])\n",
    "opciones.add_experimental_option('useAutomationExtension', False)\n",
    "opciones.headless=False    # si True, no aperece la ventana (headless=no visible)\n",
    "opciones.add_argument('--start-maximized')         # comienza maximizado\n",
    "#opciones.add_argument('user-data-dir=selenium')    # mantiene las cookies\n",
    "# opciones.add_extension('driver_folder/adblock.crx')       # adblocker\n",
    "# opciones.add_argument('--incognito')"
   ]
  },
  {
   "cell_type": "code",
   "execution_count": 21,
   "metadata": {},
   "outputs": [],
   "source": [
    "driver = \"./chromedriver.exe\"        #preguntar diferencia de esto con lo de abajo\n",
    "driver = webdriver.Chrome(driver)"
   ]
  },
  {
   "cell_type": "code",
   "execution_count": 22,
   "metadata": {},
   "outputs": [],
   "source": [
    "url = 'https://en.wikipedia.org/wiki/List_of_works_by_Edward_Hopper'\n",
    "driver=webdriver.Chrome(PATH)\n",
    "driver.get(url)\n",
    "time.sleep(5)"
   ]
  },
  {
   "cell_type": "code",
   "execution_count": 23,
   "metadata": {},
   "outputs": [
    {
     "data": {
      "text/plain": [
       "[['Cylinder',\n",
       "  'Charcoal on paper',\n",
       "  '1894',\n",
       "  'Whitney Museum of American Art',\n",
       "  '37.9 cm × 27.3 cm\\n(14 15/16 in. × 10 3/4 in.)',\n",
       "  '[1]'],\n",
       " ['Sailboats',\n",
       "  'Watercolor, graphite pencil\\non paper',\n",
       "  '1895',\n",
       "  'Whitney Museum of American Art',\n",
       "  '10.8 cm × 12.5 cm\\n(4 1/4 in. × 4 15/16 in.)',\n",
       "  '[2]'],\n",
       " ['At Valley Forge',\n",
       "  'graphite pencil on paper',\n",
       "  '1895',\n",
       "  'Whitney Museum of American Art',\n",
       "  '20 cm × 15.6 cm\\n(7 7/8 in. × 6 1/8 in.)',\n",
       "  '[3]'],\n",
       " ['The Lion at Play',\n",
       "  'Watercolor on paper',\n",
       "  '1896',\n",
       "  'Whitney Museum of American Art',\n",
       "  '10.8 cm × 16.8 cm\\n(4 1/4 in. × 6 5/8 in.)',\n",
       "  '[4]'],\n",
       " ['Painter and Model',\n",
       "  'Oil on canvas',\n",
       "  '1902–1904',\n",
       "  'Whitney Museum of American Art',\n",
       "  '26 cm × 20.6 cm\\n(10 1/4 in. × 8 1/8 in.)',\n",
       "  '[5]'],\n",
       " ['Bridge in Paris',\n",
       "  'Oil on canvas',\n",
       "  '1906',\n",
       "  'Whitney Museum of American Art',\n",
       "  '23.5 cm × 33 cm\\n(9 1/4 in. × 13 in.)',\n",
       "  '[6]'],\n",
       " ['Le Pont des Arts',\n",
       "  'Oil on canvas',\n",
       "  '1907',\n",
       "  'Whitney Museum of American Art',\n",
       "  '60.2 cm × 73.2 cm\\n(23 11/16 in. × 28 13/16 in.)',\n",
       "  '[7]']]"
      ]
     },
     "execution_count": 23,
     "metadata": {},
     "output_type": "execute_result"
    }
   ],
   "source": [
    "driver.find_element(By.TAG_NAME, 'tbody').text.split('\\n')\n",
    "tabla = driver.find_element(By.TAG_NAME, 'tbody')\n",
    "\n",
    "filas = tabla.find_elements(By.TAG_NAME, 'tr')\n",
    "\n",
    "\n",
    "data = []\n",
    "\n",
    "\n",
    "for f in filas:\n",
    "\n",
    "    elems = f.find_elements(By.TAG_NAME, 'td')\n",
    "\n",
    "    tmp = []\n",
    "\n",
    "    for e in elems:\n",
    "        tmp.append(e.text)\n",
    "\n",
    "    data.append(tmp)\n",
    "# como hacer la vaina esta metiendole las href de las imagenes. Probar con un if\n",
    "\n",
    "data = [[e.text for e in f.find_elements(By.TAG_NAME, 'td')] \n",
    "        for f in driver.find_element(By.TAG_NAME, 'tbody').find_elements(By.TAG_NAME, 'tr')]\n",
    "\n",
    "data[:7]"
   ]
  },
  {
   "cell_type": "code",
   "execution_count": 28,
   "metadata": {},
   "outputs": [
    {
     "name": "stdout",
     "output_type": "stream",
     "text": [
      "['https://en.wikipedia.org/wiki/Whitney_Museum_of_American_Art', 'https://whitneymedia.org/assets/artwork/31342/49131.jpeg', 'https://whitneymedia.org/assets/artwork/22271/50119.jpeg', 'https://whitneymedia.org/assets/artwork/31325/50204.jpeg', 'https://whitneymedia.org/assets/artwork/5935/131202.jpeg', 'https://whitneymedia.org/assets/artwork/6058/131955.jpeg', 'https://whitneymedia.org/assets/artwork/5894/132246.jpeg', 'https://whitneymedia.org/assets/artwork/6039/132238.jpeg', 'https://whitneymedia.org/assets/artwork/6044/132257.jpeg', 'https://whitneymedia.org/assets/artwork/5859/132267.jpeg', 'https://whitneymedia.org/assets/artwork/6094/132269.jpeg', 'https://whitneymedia.org/assets/artwork/6071/132247.jpeg', 'https://en.wikipedia.org/wiki/Addison_Gallery_of_American_Art', 'https://whitneymedia.org/assets/artwork/5898/137523.jpeg', 'https://whitneymedia.org/assets/artwork/5830/142507.jpeg', 'https://whitneymedia.org/assets/artwork/5896/134734.jpeg', 'https://whitneymedia.org/assets/artwork/5897/132239.jpeg', 'https://whitneymedia.org/assets/artwork/6126/132240.jpeg', 'https://whitneymedia.org/assets/artwork/6073/138358.jpeg', 'https://en.wikipedia.org/wiki/Carnegie_Museum_of_Art', 'https://whitneymedia.org/assets/artwork/6072/135893.jpeg', 'https://uploads5.wikiart.org/images/edward-hopper/squam-light.jpg!Large.jpg', 'https://whitneymedia.org/assets/artwork/5902/136287.jpeg', 'https://whitneymedia.org/assets/artwork/6081/142504.jpeg', 'https://whitneymedia.org/assets/artwork/6078/131602.jpeg', 'https://whitneymedia.org/assets/artwork/6117/131934.jpeg', 'https://www.metmuseum.org/art/collection/search/366215', 'https://whitneymedia.org/assets/artwork/7022/91193.jpeg', 'https://en.wikipedia.org/wiki/Philadelphia_Museum_of_Art', 'https://www.metmuseum.org/art/collection/search/366214', 'https://en.wikipedia.org/wiki/Metropolitan_Museum_of_Art', 'https://en.wikipedia.org/wiki/Girl_at_Sewing_Machine', 'https://en.wikipedia.org/wiki/Metropolitan_Museum_of_Art', 'https://en.wikipedia.org/wiki/File:Edward_Hopper,_New_York_Interior,_c._1921_1_15_18_-whitneymuseum_(40015892594).jpg', 'https://en.wikipedia.org/wiki/File:East_Side_Interior_1922_Edward_Hopper.jpg', 'https://en.wikipedia.org/wiki/Addison_Gallery_of_American_Art', 'https://en.wikipedia.org/wiki/Muskegon_Historic_District#Description', 'https://en.wikipedia.org/wiki/Smithsonian_American_Art_Museum', 'https://whitneymedia.org/assets/artwork/5860/70_1189_cropped.jpeg', 'https://en.wikipedia.org/wiki/Pennsylvania_Academy_of_the_Fine_Arts', 'https://www.pafa.org/museum/collection/item/drawing-aux-fortifications', 'https://en.wikipedia.org/wiki/Brooklyn_Museum', 'https://whitneymedia.org/assets/artwork/7009/70_1039_cropped.jpeg', 'https://www.metmuseum.org/art/collection/search/366216', 'https://www.wikiart.org/en/edward-hopper/moonlight-interior', 'https://en.wikipedia.org/wiki/Smithsonian_American_Art_Museum', 'https://en.wikipedia.org/wiki/National_Gallery_of_Art', 'https://en.wikipedia.org/wiki/Chrysler_Museum_of_Art', 'https://en.wikipedia.org/wiki/House_by_the_Railroad', 'https://whitneymedia.org/assets/artwork/6068/70_1165_cropped.jpeg', 'https://en.wikipedia.org/wiki/Williams_College_Museum_of_Art', 'https://en.wikipedia.org/wiki/The_Phillips_Collection', 'https://en.wikipedia.org/wiki/Princeton_University_Art_Museum', 'https://en.wikipedia.org/wiki/Museum_of_Fine_Arts,_Boston', 'https://en.wikipedia.org/wiki/Dallas_Museum_of_Art', 'https://archive.artic.edu/hopper/artwork/193526', 'https://whitneymedia.org/assets/artwork/6836/70_1093_cropped.jpeg', 'https://en.wikipedia.org/wiki/Coast_Guard_Station,_Two_Lights,_Maine', 'https://whitneymedia.org/assets/artwork/5785/70_1094_cropped.jpeg', 'https://en.wikipedia.org/wiki/Automat_(painting)', 'https://en.wikipedia.org/wiki/Toledo_Museum_of_Art', 'https://en.wikipedia.org/wiki/University_of_Arizona_Museum_of_Art', 'https://web.archive.org/web/20110721003137/http://chatlibre.blog.lemonde.fr/files/hopperfenetlanuit1928r.jpg', 'https://en.wikipedia.org/wiki/Manhattan_Bridge_Loop', 'http://www.metmuseum.org/toah/works-of-art/37.44/', 'https://en.wikipedia.org/wiki/Crystal_Bridges_Museum_of_American_Art', 'https://en.wikipedia.org/wiki/Addison_Gallery_of_American_Art', 'https://en.wikipedia.org/wiki/Chop_Suey_(painting)', 'http://www.metmuseum.org/toah/works-of-art/62.95/', 'https://en.wikipedia.org/wiki/Montclair_Art_Museum', 'https://whitneymedia.org/assets/artwork/5874/70_1170_cropped.jpeg', 'https://en.wikipedia.org/wiki/Early_Sunday_Morning', 'http://www.metmuseum.org/toah/works-of-art/31.62', 'https://whitneymedia.org/assets/artwork/6084/70_1211_cropped.jpeg', 'http://www.ibiblio.org/wm/paint/auth/hopper/landscapes/hopper.corn-hill.jpg', 'https://en.wikipedia.org/wiki/Cleveland_Museum_of_Art', 'https://en.wikipedia.org/wiki/Fred_Jones_Jr._Museum_of_Art', 'https://whitneymedia.org/assets/artwork/6665/70_684_cropped.jpeg', 'https://en.wikipedia.org/wiki/Indianapolis_Museum_of_Art', 'https://en.wikipedia.org/wiki/Thyssen-Bornemisza_Museum', 'https://en.wikipedia.org/wiki/Neuberger_Museum_of_Art', 'https://en.wikipedia.org/wiki/Crystal_Bridges_Museum_of_American_Art', 'http://www.museumsyndicate.com/item.php?item=9645', 'https://en.wikipedia.org/wiki/Room_in_New_York', 'https://en.wikipedia.org/wiki/Addison_Gallery_of_American_Art', 'https://en.wikipedia.org/wiki/Smithsonian_American_Art_Museum', 'https://en.wikipedia.org/wiki/East_Wind_Over_Weehawken', 'https://en.wikipedia.org/wiki/Virginia_Museum_of_Fine_Arts', 'https://en.wikipedia.org/wiki/The_Huntington_Library#Library_and_art_collection', 'https://en.wikipedia.org/wiki/Macomb%27s_Dam_Bridge_(painting)', 'http://www.ibiblio.org/wm/paint/auth/hopper/street/hopper.circle-theatre.jpg', 'https://whitneymedia.org/assets/artwork/5905/70_1171_cropped.jpeg', 'http://www.ibiblio.org/wm/paint/auth/hopper/landscapes/hopper.cape-cod-afternoon.jpg', 'https://en.wikipedia.org/wiki/Newark_Museum', 'https://en.wikipedia.org/wiki/White_River_at_Sharon', 'https://web.archive.org/web/20111004043339/http://lh4.ggpht.com/_-jkHKD3o3yo/RX50LzAWsuI/AAAAAAAAAUE/sERa1NX-4ik/s160/Hopper-MouthOfPametRiver-FullTide-1937-VR.jpg', 'http://www.paintinghere.com/UploadPic/Edward%20Hopper/big/Compartment%20C_%20Car%20193.jpg', 'https://en.wikipedia.org/wiki/File:Edward_hopper_cottages_at_north_truro.jpg', 'http://www.paintinghere.com/UploadPic/Edward%20Hopper/big/Bridle%20Path.jpg', 'https://en.wikipedia.org/wiki/New_York_Movie', 'https://en.wikipedia.org/wiki/National_Gallery_of_Art', 'https://en.wikipedia.org/wiki/Ground_Swell', 'https://en.wikipedia.org/wiki/Gas_(painting)', 'https://en.wikipedia.org/wiki/Office_at_Night', 'http://www.artchive.com/artchive/h/hopper/lee_shore.jpg', 'https://en.wikipedia.org/wiki/Nighthawks_(painting)', 'https://en.wikipedia.org/wiki/Terra_Foundation_for_American_Art', 'https://en.wikipedia.org/wiki/Hotel_Lobby', 'https://en.wikipedia.org/wiki/Delaware_Art_Museum', 'https://en.wikipedia.org/wiki/Saltillo_Mansion', 'http://www.masterpiece-paintings-gallery.com/hopper-solitude.htm', 'https://en.wikipedia.org/wiki/Williams_College_Museum_of_Art', 'https://en.wikipedia.org/wiki/Yale_University_Art_Gallery', 'https://en.wikipedia.org/wiki/Norton_Museum_of_Art', 'https://whitneymedia.org/assets/artwork/6891/70_1159_cropped.jpeg', 'https://en.wikipedia.org/wiki/The_Phillips_Collection', 'https://whitneymedia.org/assets/artwork/1410/50_2_cropped.jpeg', 'http://www.ibiblio.org/wm/paint/auth/hopper/interior/hopper.summer-evening.jpg', 'https://en.wikipedia.org/wiki/Butler_Institute_of_American_Art', 'https://whitneymedia.org/assets/artwork/732/50_8_cropped.jpeg', 'https://en.wikipedia.org/wiki/High_Noon_(painting)', 'https://en.wikipedia.org/wiki/Wichita_Art_Museum', 'https://whitneymedia.org/assets/artwork/6096/70_1265_cropped.jpeg', 'https://en.wikipedia.org/wiki/Smithsonian_American_Art_Museum', 'https://en.wikipedia.org/wiki/De_Young_Museum', 'http://www.ibiblio.org/wm/paint/auth/hopper/interior/hopper.rooms-sea.jpg', 'https://en.wikipedia.org/wiki/Hirshhorn_Museum_and_Sculpture_Garden', 'https://en.wikipedia.org/wiki/Columbus_Museum_of_Art', 'https://en.wikipedia.org/wiki/Hotel_by_a_Railroad', 'https://www.bridgemanimages.com/fr/asset/219981/hopper-edward-1882-1967/sea-watchers-1952-oil-on-canvas', 'https://en.wikipedia.org/wiki/Office_in_a_Small_City', 'https://en.wikipedia.org/wiki/Hirshhorn_Museum_and_Sculpture_Garden', 'https://whitneymedia.org/assets/artwork/789/67_13_cropped.jpeg', 'http://1.bp.blogspot.com/_optCt9q1zJQ/TDn_7rPn9PI/AAAAAAAAAEI/9Qc_Mn6EsjY/s640/EdwardHopperHotelWindow.jpg', 'http://www.cineclubdecaen.com/peinture/peintres/hopper/56routeaquatrevoies.htm', 'https://en.wikipedia.org/wiki/Brooklyn_Museum', 'https://en.wikipedia.org/wiki/Western_Motel', 'https://en.wikipedia.org/wiki/Yale_University_Art_Gallery', 'http://arts.guardian.co.uk/pictures/image/0,8543,-10504931919,00.html', 'https://en.wikipedia.org/wiki/Second_Story_Sunlight', 'https://en.wikipedia.org/wiki/Smithsonian_American_Art_Museum', 'https://whitneymedia.org/assets/artwork/1337/84_31_cropped.jpeg', 'https://en.wikipedia.org/wiki/Montgomery_Museum_of_Fine_Arts', 'https://en.wikipedia.org/wiki/San_Francisco_Museum_of_Modern_Art', 'http://www.ibiblio.org/wm/paint/auth/hopper/interior/hopper.sun-empty-room.jpg', 'http://www.ibiblio.org/wm/paint/auth/hopper/interior/hopper.chair-car.jpg', 'http://www.cineclubdecaen.com/peinture/peintres/hopper/65deuxcomediens.htm']\n"
     ]
    }
   ],
   "source": [
    "enlaces = []\n",
    "for fila in filas:\n",
    "    elementos = fila.find_elements(By.TAG_NAME, 'a')\n",
    "    if elementos:\n",
    "        enlace = elementos[0].get_attribute('href')\n",
    "        enlaces.append(enlace)\n",
    "\n",
    "print(enlaces)\n",
    "\n"
   ]
  },
  {
   "cell_type": "code",
   "execution_count": 29,
   "metadata": {},
   "outputs": [
    {
     "data": {
      "text/plain": [
       "147"
      ]
     },
     "execution_count": 29,
     "metadata": {},
     "output_type": "execute_result"
    }
   ],
   "source": [
    "len(enlaces) #not vale, hay algunas filas que no tienen foto"
   ]
  },
  {
   "cell_type": "code",
   "execution_count": 25,
   "metadata": {},
   "outputs": [
    {
     "data": {
      "text/html": [
       "<div>\n",
       "<style scoped>\n",
       "    .dataframe tbody tr th:only-of-type {\n",
       "        vertical-align: middle;\n",
       "    }\n",
       "\n",
       "    .dataframe tbody tr th {\n",
       "        vertical-align: top;\n",
       "    }\n",
       "\n",
       "    .dataframe thead th {\n",
       "        text-align: right;\n",
       "    }\n",
       "</style>\n",
       "<table border=\"1\" class=\"dataframe\">\n",
       "  <thead>\n",
       "    <tr style=\"text-align: right;\">\n",
       "      <th></th>\n",
       "      <th>Title</th>\n",
       "      <th>Medium</th>\n",
       "      <th>Date</th>\n",
       "      <th>Collection</th>\n",
       "      <th>Dimensions</th>\n",
       "      <th>Image</th>\n",
       "    </tr>\n",
       "  </thead>\n",
       "  <tbody>\n",
       "    <tr>\n",
       "      <th>144</th>\n",
       "      <td>New York Office</td>\n",
       "      <td>Oil on canvas</td>\n",
       "      <td>1962</td>\n",
       "      <td>Montgomery Museum of Fine Arts</td>\n",
       "      <td></td>\n",
       "      <td>[130]</td>\n",
       "    </tr>\n",
       "    <tr>\n",
       "      <th>145</th>\n",
       "      <td>Intermission</td>\n",
       "      <td>Oil on canvas</td>\n",
       "      <td>1963</td>\n",
       "      <td>San Francisco Museum of Modern Art</td>\n",
       "      <td>101.6 cm × 152.4 cm\\n(40 in. × 60 in.)</td>\n",
       "      <td>[131]</td>\n",
       "    </tr>\n",
       "    <tr>\n",
       "      <th>146</th>\n",
       "      <td>Sun in an Empty Room</td>\n",
       "      <td>Oil on canvas</td>\n",
       "      <td>1963</td>\n",
       "      <td>Private collection</td>\n",
       "      <td></td>\n",
       "      <td>[132]</td>\n",
       "    </tr>\n",
       "    <tr>\n",
       "      <th>147</th>\n",
       "      <td>Chair Car</td>\n",
       "      <td>Oil on canvas</td>\n",
       "      <td>1965</td>\n",
       "      <td>Private collection</td>\n",
       "      <td></td>\n",
       "      <td>[133]</td>\n",
       "    </tr>\n",
       "    <tr>\n",
       "      <th>148</th>\n",
       "      <td>Two Comedians</td>\n",
       "      <td>Oil on canvas</td>\n",
       "      <td>1965</td>\n",
       "      <td>Private collection</td>\n",
       "      <td>73.7 cm × 101.6 cm</td>\n",
       "      <td>[134]</td>\n",
       "    </tr>\n",
       "  </tbody>\n",
       "</table>\n",
       "</div>"
      ],
      "text/plain": [
       "                    Title         Medium  Date   \n",
       "144       New York Office  Oil on canvas  1962  \\\n",
       "145          Intermission  Oil on canvas  1963   \n",
       "146  Sun in an Empty Room  Oil on canvas  1963   \n",
       "147             Chair Car  Oil on canvas  1965   \n",
       "148         Two Comedians  Oil on canvas  1965   \n",
       "\n",
       "                             Collection   \n",
       "144      Montgomery Museum of Fine Arts  \\\n",
       "145  San Francisco Museum of Modern Art   \n",
       "146                  Private collection   \n",
       "147                  Private collection   \n",
       "148                  Private collection   \n",
       "\n",
       "                                 Dimensions  Image  \n",
       "144                                          [130]  \n",
       "145  101.6 cm × 152.4 cm\\n(40 in. × 60 in.)  [131]  \n",
       "146                                          [132]  \n",
       "147                                          [133]  \n",
       "148                      73.7 cm × 101.6 cm  [134]  "
      ]
     },
     "execution_count": 25,
     "metadata": {},
     "output_type": "execute_result"
    }
   ],
   "source": [
    "cabeceras = driver.find_element(By.TAG_NAME, 'thead').text.split()\n",
    "\n",
    "cabeceras\n",
    "hopper_art = pd.DataFrame(data, columns=cabeceras)\n",
    "hopper_art.tail()"
   ]
  },
  {
   "cell_type": "code",
   "execution_count": 30,
   "metadata": {},
   "outputs": [],
   "source": [
    "url = 'https://www.metmuseum.org/art/collection/search?q=Edward+Hopper&sortBy=Relevance&pageSize=0&searchField=ArtistCulture'\n",
    "driver=webdriver.Chrome(PATH)\n",
    "driver.get(url)\n",
    "time.sleep(5)"
   ]
  },
  {
   "cell_type": "code",
   "execution_count": 39,
   "metadata": {},
   "outputs": [
    {
     "data": {
      "text/plain": [
       "['https://www.metmuseum.org/art/collection/search/487695?searchField=ArtistCulture&amp;sortBy=Relevance&amp;ft=Edward+Hopper&amp;offset=0&amp;rpp=40&amp;pos=1',\n",
       " 'https://www.metmuseum.org/art/collection/search/487834?searchField=ArtistCulture&amp;sortBy=Relevance&amp;ft=Edward+Hopper&amp;offset=0&amp;rpp=40&amp;pos=2',\n",
       " 'https://www.metmuseum.org/art/collection/search/481211?searchField=ArtistCulture&amp;sortBy=Relevance&amp;ft=Edward+Hopper&amp;offset=0&amp;rpp=40&amp;pos=3',\n",
       " 'https://www.metmuseum.org/art/collection/search/481213?searchField=ArtistCulture&amp;sortBy=Relevance&amp;ft=Edward+Hopper&amp;offset=0&amp;rpp=40&amp;pos=4',\n",
       " 'https://www.metmuseum.org/art/collection/search/488919?searchField=ArtistCulture&amp;sortBy=Relevance&amp;ft=Edward+Hopper&amp;offset=0&amp;rpp=40&amp;pos=5',\n",
       " 'https://www.metmuseum.org/art/collection/search/488165?searchField=ArtistCulture&amp;sortBy=Relevance&amp;ft=Edward+Hopper&amp;offset=0&amp;rpp=40&amp;pos=6',\n",
       " 'https://www.metmuseum.org/art/collection/search/488273?searchField=ArtistCulture&amp;sortBy=Relevance&amp;ft=Edward+Hopper&amp;offset=0&amp;rpp=40&amp;pos=7',\n",
       " 'https://www.metmuseum.org/art/collection/search/481209?searchField=ArtistCulture&amp;sortBy=Relevance&amp;ft=Edward+Hopper&amp;offset=0&amp;rpp=40&amp;pos=8',\n",
       " 'https://www.metmuseum.org/art/collection/search/488969?searchField=ArtistCulture&amp;sortBy=Relevance&amp;ft=Edward+Hopper&amp;offset=0&amp;rpp=40&amp;pos=9',\n",
       " 'https://www.metmuseum.org/art/collection/search/489258?searchField=ArtistCulture&amp;sortBy=Relevance&amp;ft=Edward+Hopper&amp;offset=0&amp;rpp=40&amp;pos=10',\n",
       " 'https://www.metmuseum.org/art/collection/search/488730?searchField=ArtistCulture&amp;sortBy=Relevance&amp;ft=Edward+Hopper&amp;offset=0&amp;rpp=40&amp;pos=11',\n",
       " 'https://www.metmuseum.org/art/collection/search/366207?searchField=ArtistCulture&amp;sortBy=Relevance&amp;ft=Edward+Hopper&amp;offset=0&amp;rpp=40&amp;pos=12',\n",
       " 'https://www.metmuseum.org/art/collection/search/366217?searchField=ArtistCulture&amp;sortBy=Relevance&amp;ft=Edward+Hopper&amp;offset=0&amp;rpp=40&amp;pos=13',\n",
       " 'https://www.metmuseum.org/art/collection/search/366212?searchField=ArtistCulture&amp;sortBy=Relevance&amp;ft=Edward+Hopper&amp;offset=0&amp;rpp=40&amp;pos=14',\n",
       " 'https://www.metmuseum.org/art/collection/search/366204?searchField=ArtistCulture&amp;sortBy=Relevance&amp;ft=Edward+Hopper&amp;offset=0&amp;rpp=40&amp;pos=15',\n",
       " 'https://www.metmuseum.org/art/collection/search/366214?searchField=ArtistCulture&amp;sortBy=Relevance&amp;ft=Edward+Hopper&amp;offset=0&amp;rpp=40&amp;pos=16',\n",
       " 'https://www.metmuseum.org/art/collection/search/366218?searchField=ArtistCulture&amp;sortBy=Relevance&amp;ft=Edward+Hopper&amp;offset=0&amp;rpp=40&amp;pos=17',\n",
       " 'https://www.metmuseum.org/art/collection/search/366213?searchField=ArtistCulture&amp;sortBy=Relevance&amp;ft=Edward+Hopper&amp;offset=0&amp;rpp=40&amp;pos=18',\n",
       " 'https://www.metmuseum.org/art/collection/search/366208?searchField=ArtistCulture&amp;sortBy=Relevance&amp;ft=Edward+Hopper&amp;offset=0&amp;rpp=40&amp;pos=19',\n",
       " 'https://www.metmuseum.org/art/collection/search/366216?searchField=ArtistCulture&amp;sortBy=Relevance&amp;ft=Edward+Hopper&amp;offset=0&amp;rpp=40&amp;pos=20',\n",
       " 'https://www.metmuseum.org/art/collection/search/366209?searchField=ArtistCulture&amp;sortBy=Relevance&amp;ft=Edward+Hopper&amp;offset=0&amp;rpp=40&amp;pos=21',\n",
       " 'https://www.metmuseum.org/art/collection/search/366210?searchField=ArtistCulture&amp;sortBy=Relevance&amp;ft=Edward+Hopper&amp;offset=0&amp;rpp=40&amp;pos=22',\n",
       " 'https://www.metmuseum.org/art/collection/search/366219?searchField=ArtistCulture&amp;sortBy=Relevance&amp;ft=Edward+Hopper&amp;offset=0&amp;rpp=40&amp;pos=23',\n",
       " 'https://www.metmuseum.org/art/collection/search/366206?searchField=ArtistCulture&amp;sortBy=Relevance&amp;ft=Edward+Hopper&amp;offset=0&amp;rpp=40&amp;pos=24',\n",
       " 'https://www.metmuseum.org/art/collection/search/366215?searchField=ArtistCulture&amp;sortBy=Relevance&amp;ft=Edward+Hopper&amp;offset=0&amp;rpp=40&amp;pos=25',\n",
       " 'https://www.metmuseum.org/art/collection/search/366211?searchField=ArtistCulture&amp;sortBy=Relevance&amp;ft=Edward+Hopper&amp;offset=0&amp;rpp=40&amp;pos=26',\n",
       " 'https://www.metmuseum.org/art/collection/search/487432?searchField=ArtistCulture&amp;sortBy=Relevance&amp;ft=Edward+Hopper&amp;offset=0&amp;rpp=40&amp;pos=27',\n",
       " 'https://www.metmuseum.org/art/collection/search/487434?searchField=ArtistCulture&amp;sortBy=Relevance&amp;ft=Edward+Hopper&amp;offset=0&amp;rpp=40&amp;pos=28',\n",
       " 'https://www.metmuseum.org/art/collection/search/487440?searchField=ArtistCulture&amp;sortBy=Relevance&amp;ft=Edward+Hopper&amp;offset=0&amp;rpp=40&amp;pos=29',\n",
       " 'https://www.metmuseum.org/art/collection/search/487433?searchField=ArtistCulture&amp;sortBy=Relevance&amp;ft=Edward+Hopper&amp;offset=0&amp;rpp=40&amp;pos=30',\n",
       " 'https://www.metmuseum.org/art/collection/search/487430?searchField=ArtistCulture&amp;sortBy=Relevance&amp;ft=Edward+Hopper&amp;offset=0&amp;rpp=40&amp;pos=31',\n",
       " 'https://www.metmuseum.org/art/collection/search/487431?searchField=ArtistCulture&amp;sortBy=Relevance&amp;ft=Edward+Hopper&amp;offset=0&amp;rpp=40&amp;pos=32',\n",
       " 'https://www.metmuseum.org/art/collection/search/487438?searchField=ArtistCulture&amp;sortBy=Relevance&amp;ft=Edward+Hopper&amp;offset=0&amp;rpp=40&amp;pos=33',\n",
       " 'https://www.metmuseum.org/art/collection/search/487439?searchField=ArtistCulture&amp;sortBy=Relevance&amp;ft=Edward+Hopper&amp;offset=0&amp;rpp=40&amp;pos=34',\n",
       " 'https://www.metmuseum.org/art/collection/search/487436?searchField=ArtistCulture&amp;sortBy=Relevance&amp;ft=Edward+Hopper&amp;offset=0&amp;rpp=40&amp;pos=35',\n",
       " 'https://www.metmuseum.org/art/collection/search/487441?searchField=ArtistCulture&amp;sortBy=Relevance&amp;ft=Edward+Hopper&amp;offset=0&amp;rpp=40&amp;pos=36',\n",
       " 'https://www.metmuseum.org/art/collection/search/487437?searchField=ArtistCulture&amp;sortBy=Relevance&amp;ft=Edward+Hopper&amp;offset=0&amp;rpp=40&amp;pos=37',\n",
       " 'https://www.metmuseum.org/art/collection/search/487435?searchField=ArtistCulture&amp;sortBy=Relevance&amp;ft=Edward+Hopper&amp;offset=0&amp;rpp=40&amp;pos=38']"
      ]
     },
     "execution_count": 39,
     "metadata": {},
     "output_type": "execute_result"
    }
   ],
   "source": [
    "nombre_enl = driver.find_elements(By.TAG_NAME, 'a')\n",
    "\n",
    "enl = []\n",
    "for nombre in nombre_enl:\n",
    "    enlaces = nombre.get_attribute('href')\n",
    "    if 'pos' in enlaces:\n",
    "        enl.append(enlaces)\n",
    "\n",
    "enl"
   ]
  },
  {
   "cell_type": "code",
   "execution_count": 50,
   "metadata": {},
   "outputs": [
    {
     "data": {
      "text/plain": [
       "{'Tables for Ladies': 'In Hopper’s Tables for Ladies, a waitress leans forward to adjust the vividly painted foods at the window as a couple sits quietly in the richly paneled and well-lit interior. A cashier attentively tends to business at her register. Though they appear weary and detached, these two women hold posts newly available to female city dwellers outside the home. The painting’s title alludes to a recent social innovation in which establishments advertised \"tables for ladies\" in order to welcome their newly mobile female customers, who, if seen dining alone in public previously, were assumed to be prostitutes.',\n",
       " 'From Williamsburg Bridge': 'In this painting, Hopper depicts the austere facades of four apartment buildings and reduces the steel suspension of the Williamsburg Bridge to the margins. Completed in 1903 and connecting Brooklyn with Manhattan, the structure is indicated only by the unobtrusive railing rising at a slight diagonal along the bottom of the canvas. As opposed to focusing on the bridge that facilitates movement in and out of the city, Hopper creates an image absent of noise or motion. He emphasizes the alienation and anonymity of urban life by including a single figure: a woman sitting alone in a top story window.',\n",
       " 'Barn and Silo, Vermont': '',\n",
       " 'Coast Guard Station, Two Lights, Maine': 'On his repeated summer visits to Cape Elizabeth, Maine, Hopper painted several views of the Two Lights lighthouses and a Coast Guard station that stood in an adjacent cove (see MMA 62.95). In Hopper\\'s ledger, this location, with its white sand and vivid blue water, is described as having a \"very clean & swept look\" (Artist\\'s ledger, Whitney Museum of American Art). His composition of the Coast Guard station and its landscape is similarly and appropriately clean. The water and the rocks in the foreground are painted in loose, limpid washes of color, and the repeated angles of the station\\'s various gables, punctuated by the slender vertical of the flagpole that rises from its roof, are more tightly delineated. This is a sunny, tranquil landscape whose subject nonetheless alludes to the darker possibilities of dangerous rescues from the ocean. Hopper had worked very little in watercolor before 1923. However, he soon demonstrated a mastery of the medium after his wife Jo, who was also an artist, encouraged him to utilize it for his outdoor studies.',\n",
       " 'House of the Foghorn, I': '',\n",
       " 'Saltillo Mansion': \"Hopper and his wife Jo traveled to Mexico in the summer of 1943, seeking a change of scene and new subjects for Hopper's art. After stopping in Mexico City, they traveled 500 miles north to Saltillo, a smaller city whose cool, dry climate and views of nearby mountains made it a popular destination for vacationers. The Hoppers stayed at a hotel called the Guarhado House on Victoria Street, and Hopper painted several watercolors from the hotel roof. From this height, he could see the mountains over the buildings of the city, but his depictions of the scene still suggest the urban development that was blocking his enjoyment of the natural setting. In another work, he showed the colorful towers of Saltillo's eighteenth-century cathedral, a reminder of the city's roots as a Spanish settlement; here, however, he limits his scope to a partial view of some domestic architecture. The houses' simple, blocklike forms, trimmed with lattices and decorative carving, are a dazzling white against the sky and the distant hills. Hopper had initially complained that Saltillo was noisy and congested, but from his rooftop he could project onto this new setting the same stillness and solitude that pervaded his scenes of New York and New England.\",\n",
       " 'Church of San Esteban': '',\n",
       " 'Folly Beach, Charleston, South Carolina': '',\n",
       " 'D. & R.G. Locomotive': '',\n",
       " 'The Lighthouse at Two Lights': 'In this work, Hopper isolates the dramatic silhouette of a lighthouse against an open expanse of blue sky. Set on a rocky promontory in Cape Elizabeth, Maine, the architecture is bathed in bright sunlight offset by dark shadows. Standing proudly upright and seen from below, the lighthouse at Two Lights seems to symbolize a resolute resistance, even refusal, to submit to change or nature. For Hopper, who had been summering in Maine since 1914, the lighthouse also signified a pleasurable reprieve from life in New York.',\n",
       " 'Office in a Small City': 'The Metropolitan Museum acquired this painting shortly after it was completed in late October 1953. Begun in Cape Cod over the summer and finished in New York City, it was the only oil painting Hopper produced that year. Reprising one of his signature subjects—a solitary figure, physically and emotionally detached from his surroundings and other people—it was described by the artist’s wife as \"the man in concrete wall.\"',\n",
       " 'The Lighthouse': '',\n",
       " 'Cat Boat': \"Hopper's image celebrates summer's warmth as two muscular men sail a cat-boat, distinguished by its single sail, along the New England coast. The artist had returned to New York from Paris in 1910 and took up etching when his paintings failed to find buyers, producing about 70 prints between 1915 and 1923. In addition to depicting men and women experiencing the urban fabric of New York, he evoked memories of France, and explored rural and coastal landscapes in Maine and Massachusetts. After Hopper received two awards for his prints in 1923—the Logan Prize from the Chicago Society of Etchers and the W. A. Bryan Prize—he refocused his energies on painting, but often returned to subjects he had used etching to shape.\",\n",
       " 'Night in the Park': '',\n",
       " 'East Side Interior': 'In a New York interior, a woman looks up from her sewing machine to gaze out an open window, the heat suggested by the loosened neck of her dress. Hopper had returned to New York from Paris in 1910 and took up etching when his paintings failed to find buyers, producing about 70 prints between 1915 and 1923. In addition to men and women experiencing the distinct fabric of his new home town, the artist evoked memories of France and explored rural and coastal landscapes in Maine and Massachusetts. After Hopper received two awards for his prints in 1923—the Logan Prize from the Chicago Society of Etchers and the W. A. Bryan Prize—he refocused his energies on painting, but often returned to subjects he had used etching to shape.',\n",
       " 'House Tops': 'In this New York scene, a woman gazes across the city from an elevated train as a fellow passenger with packages seems lost in thought. Hopper had returned to New York from Paris in 1910 and took up etching when his paintings failed to find buyers, producing about 70 prints between 1915 and 1923. In addition to showing men and women experiencing the urban fabric, he evoked memories of France, and explored rural and coastal landscapes in Maine and Massachusetts. After Hopper received two awards for his prints in 1923—the Logan Prize from the Chicago Society of Etchers and the W. A. Bryan Prize—he refocused his energies on painting, but often returned to subjects he had used etching to shape.',\n",
       " 'Railroad Crossing': '',\n",
       " 'Train and Bathers': '',\n",
       " 'American Landscape': '',\n",
       " 'The Lonely House': '',\n",
       " 'Aux Fortifications': '',\n",
       " 'Les Deux Pigeons': '',\n",
       " 'The Railroad': '',\n",
       " 'Night Shadows': '',\n",
       " 'Night on the El Train': 'A couple huddles by an open window in the corner of a train carriage. Despite the movement of the train, indicated by the billowing shades and swaying straps, Hopper created a still and enigmatic moment within a normally noisy environment. He employed his characteristic angled viewpoint, which is emphasized here by the row of empty seats behind the couple.',\n",
       " 'Evening Wind': '',\n",
       " 'The Cat Boat': ''}"
      ]
     },
     "execution_count": 50,
     "metadata": {},
     "output_type": "execute_result"
    }
   ],
   "source": [
    "descri = {}\n",
    "for cuadro in enl:\n",
    "    driver.get(cuadro)\n",
    "    descri[driver.find_element(By.XPATH, '//*[@id=\"artwork__title\"]/span/span').text] = driver.find_element(By.XPATH, '//*[@id=\"artwork-section\"]/div/div/div[1]/div/div/p').text\n",
    "\n",
    "descri"
   ]
  },
  {
   "cell_type": "code",
   "execution_count": 40,
   "metadata": {},
   "outputs": [],
   "source": [
    "url = 'https://www.metmuseum.org/art/collection/search/487695?searchField=ArtistCulture&amp;sortBy=Relevance&amp;ft=Edward+Hopper&amp;offset=0&amp;rpp=40&amp;pos=1'\n",
    "driver=webdriver.Chrome(PATH)\n",
    "driver.get(url)\n",
    "time.sleep(5)"
   ]
  },
  {
   "cell_type": "code",
   "execution_count": 47,
   "metadata": {},
   "outputs": [
    {
     "data": {
      "text/plain": [
       "'In Hopper’s Tables for Ladies, a waitress leans forward to adjust the vividly painted foods at the window as a couple sits quietly in the richly paneled and well-lit interior. A cashier attentively tends to business at her register. Though they appear weary and detached, these two women hold posts newly available to female city dwellers outside the home. The painting’s title alludes to a recent social innovation in which establishments advertised \"tables for ladies\" in order to welcome their newly mobile female customers, who, if seen dining alone in public previously, were assumed to be prostitutes.'"
      ]
     },
     "execution_count": 47,
     "metadata": {},
     "output_type": "execute_result"
    }
   ],
   "source": [
    "a = driver.find_element(By.XPATH, '//*[@id=\"artwork-section\"]/div/div/div[1]/div/div/p').text\n",
    "\n",
    "a"
   ]
  },
  {
   "cell_type": "code",
   "execution_count": 49,
   "metadata": {},
   "outputs": [
    {
     "data": {
      "text/plain": [
       "'Tables for Ladies'"
      ]
     },
     "execution_count": 49,
     "metadata": {},
     "output_type": "execute_result"
    }
   ],
   "source": [
    "b = driver.find_element(By.XPATH, '//*[@id=\"artwork__title\"]/span/span').text\n",
    "\n",
    "b"
   ]
  }
 ],
 "metadata": {
  "kernelspec": {
   "display_name": "Python 3",
   "language": "python",
   "name": "python3"
  },
  "language_info": {
   "codemirror_mode": {
    "name": "ipython",
    "version": 3
   },
   "file_extension": ".py",
   "mimetype": "text/x-python",
   "name": "python",
   "nbconvert_exporter": "python",
   "pygments_lexer": "ipython3",
   "version": "3.11.3"
  },
  "orig_nbformat": 4
 },
 "nbformat": 4,
 "nbformat_minor": 2
}
