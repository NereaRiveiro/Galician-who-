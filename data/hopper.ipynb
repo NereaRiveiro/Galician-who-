{
 "cells": [
  {
   "attachments": {},
   "cell_type": "markdown",
   "metadata": {},
   "source": [
    "EDWARD HOPPER"
   ]
  },
  {
   "cell_type": "code",
   "execution_count": 76,
   "metadata": {},
   "outputs": [],
   "source": [
    "from selenium import webdriver\n",
    "import pandas as pd\n",
    "from selenium.webdriver.chrome.options import Options\n",
    "from webdriver_manager.chrome import ChromeDriverManager\n",
    "from selenium.webdriver.common.by import By \n",
    "import time\n",
    "import warnings\n",
    "warnings.filterwarnings('ignore')\n",
    "from selenium.webdriver.common.keys import Keys  \n",
    "import re\n",
    "import urllib.request\n",
    "PATH = ChromeDriverManager().install()"
   ]
  },
  {
   "cell_type": "code",
   "execution_count": 77,
   "metadata": {},
   "outputs": [],
   "source": [
    "opciones=Options()\n",
    "\n",
    "opciones.add_experimental_option('excludeSwitches', ['enable-automation'])\n",
    "opciones.add_experimental_option('useAutomationExtension', False)\n",
    "opciones.headless=False    # si True, no aperece la ventana (headless=no visible)\n",
    "opciones.add_argument('--start-maximized')         # comienza maximizado\n",
    "#opciones.add_argument('user-data-dir=selenium')    # mantiene las cookies\n",
    "# opciones.add_extension('driver_folder/adblock.crx')       # adblocker\n",
    "# opciones.add_argument('--incognito')"
   ]
  },
  {
   "cell_type": "code",
   "execution_count": 78,
   "metadata": {},
   "outputs": [],
   "source": [
    "driver = \"./chromedriver.exe\"        #preguntar diferencia de esto con lo de abajo\n",
    "driver = webdriver.Chrome(driver)"
   ]
  },
  {
   "cell_type": "code",
   "execution_count": 199,
   "metadata": {},
   "outputs": [],
   "source": [
    "url = 'https://en.wikipedia.org/wiki/List_of_works_by_Edward_Hopper'\n",
    "driver=webdriver.Chrome(PATH)\n",
    "driver.get(url)\n",
    "time.sleep(5)"
   ]
  },
  {
   "cell_type": "code",
   "execution_count": 159,
   "metadata": {},
   "outputs": [
    {
     "name": "stdout",
     "output_type": "stream",
     "text": [
      "\n",
      "\n",
      "\n",
      "\n",
      "\n",
      "\n"
     ]
    }
   ],
   "source": [
    "\n",
    "\n",
    "for i in range(5, 450, 6):\n",
    "    if driver.find_elements(By.XPATH, '//td')[i].text == '':\n",
    "        print(driver.find_elements(By.XPATH, '//td')[i].text)\n"
   ]
  },
  {
   "cell_type": "code",
   "execution_count": 164,
   "metadata": {},
   "outputs": [
    {
     "name": "stdout",
     "output_type": "stream",
     "text": [
      "[1]\n"
     ]
    }
   ],
   "source": [
    "a = driver.find_elements(By.XPATH, '//td')[5].text\n",
    "print(a)"
   ]
  },
  {
   "cell_type": "code",
   "execution_count": 165,
   "metadata": {},
   "outputs": [
    {
     "data": {
      "text/plain": [
       "['https://whitneymedia.org/assets/artwork/31325/50204.jpeg',\n",
       " 'https://whitneymedia.org/assets/artwork/5859/132267.jpeg',\n",
       " 'https://whitneymedia.org/assets/artwork/5830/142507.jpeg',\n",
       " 'https://cmoa-collection-images.s3.amazonaws.com/thing/191446/sizes/1016431-840.jpg',\n",
       " 'https://whitneymedia.org/assets/artwork/6117/131934.jpeg',\n",
       " 'https://en.wikipedia.org/wiki/Metropolitan_Museum_of_Art',\n",
       " 'https://en.wikipedia.org/wiki/Metropolitan_Museum_of_Art',\n",
       " 'https://en.wikipedia.org/wiki/Addison_Gallery_of_American_Art',\n",
       " 'https://americanart.si.edu/artwork/cat-boat-10761',\n",
       " 'https://www.pafa.org/museum/collection/item/drawing-aux-fortifications',\n",
       " 'https://en.wikipedia.org/wiki/Smithsonian_American_Art_Museum',\n",
       " 'https://en.wikipedia.org/wiki/Museum_of_Modern_Art',\n",
       " 'http://www.ibiblio.org/wm/paint/auth/hopper/street/hopper.sunday.jpg',\n",
       " 'http://www.abstract-art.com/abstraction/l2_Grnfthrs_fldr/g0000_gr_inf_images/g031c_hopper_lighthousehill.jpg',\n",
       " 'https://whitneymedia.org/assets/artwork/5785/70_1094_cropped.jpeg',\n",
       " 'http://www.wikipaintings.org/en/edward-hopper/two-on-the-aisle',\n",
       " 'https://en.wikipedia.org/wiki/File:Manhattan-bridge-loop-edward-hopper-1928.jpg',\n",
       " 'http://accessaddison.andover.edu/Obj4099?sid=148034&x=2207378&port=1000',\n",
       " 'https://www.nga.gov/exhibitions/2007/hopper.html',\n",
       " 'https://whitneymedia.org/assets/artwork/6084/70_1211_cropped.jpeg',\n",
       " 'https://whitneymedia.org/assets/artwork/6665/70_684_cropped.jpeg',\n",
       " 'http://totallyhistory.com/wp-content/uploads/2012/04/The-Barber-Shop-by-hopper-1931.jpg',\n",
       " 'https://en.wikipedia.org/wiki/1932',\n",
       " 'https://americanart.si.edu/artwork/ryders-house-10763',\n",
       " 'https://en.wikipedia.org/wiki/The_Huntington_Library#Library_and_art_collection',\n",
       " 'http://www.ibiblio.org/wm/paint/auth/hopper/street/hopper.circle-theatre.jpg',\n",
       " 'https://en.wikipedia.org/wiki/Smithsonian_American_Art_Museum',\n",
       " 'http://www.paintinghere.com/UploadPic/Edward%20Hopper/big/Bridle%20Path.jpg',\n",
       " 'https://www.nga.gov/collection/art-object-page.61252.html',\n",
       " 'https://en.wikipedia.org/wiki/Gas_(painting)',\n",
       " 'http://www.ibiblio.org/wm/paint/auth/hopper/interior/hopper.office-night.jpg',\n",
       " '',\n",
       " 'https://en.wikipedia.org/wiki/Saltillo_Mansion',\n",
       " 'http://www.cineclubdecaen.com/peinture/peintres/hopper/44matindansunegrandeville.htm',\n",
       " 'https://en.wikipedia.org/wiki/The_Phillips_Collection',\n",
       " 'https://whitneymedia.org/assets/artwork/732/50_8_cropped.jpeg',\n",
       " '',\n",
       " 'https://en.wikipedia.org/wiki/Hirshhorn_Museum_and_Sculpture_Garden',\n",
       " 'https://en.wikipedia.org/wiki/Hirshhorn_Museum_and_Sculpture_Garden',\n",
       " 'https://en.wikipedia.org/wiki/Hirshhorn_Museum_and_Sculpture_Garden',\n",
       " 'http://www.museumsyndicate.com/images/1/9793.jpg',\n",
       " 'https://en.wikipedia.org/wiki/Second_Story_Sunlight',\n",
       " 'https://whitneymedia.org/assets/artwork/1337/84_31_cropped.jpeg',\n",
       " 'http://www.ibiblio.org/wm/paint/auth/hopper/interior/hopper.chair-car.jpg',\n",
       " 'https://en.wikipedia.org/wiki/Automat_(Hopper)',\n",
       " 'https://en.wikipedia.org/wiki/Macomb%27s_Dam_Bridge_(painting)',\n",
       " '',\n",
       " 'https://en.wikipedia.org/wiki/Western_Motel',\n",
       " '',\n",
       " 'https://en.wikipedia.org/wiki/List_of_artworks_at_the_Indianapolis_Museum_of_Art',\n",
       " 'https://en.wikipedia.org/wiki/List_of_painters_in_the_Los_Angeles_County_Museum_of_Art_collections',\n",
       " '',\n",
       " 'https://en.wikipedia.org/wiki/List_of_works_by_Banksy',\n",
       " '',\n",
       " 'https://en.wikipedia.org/wiki/List_of_paintings_by_Eug%C3%A8ne_Boudin',\n",
       " 'https://en.wikipedia.org/wiki/List_of_paintings_by_Gustave_Caillebotte',\n",
       " 'https://en.wikipedia.org/wiki/List_of_paintings_by_Frederic_Edwin_Church',\n",
       " 'https://en.wikipedia.org/wiki/List_of_works_by_Salvador_Dal%C3%AD',\n",
       " 'https://en.wikipedia.org/wiki/List_of_paintings_by_Anthony_van_Dyck',\n",
       " 'https://en.wikipedia.org/wiki/List_of_paintings_by_Paul_Gauguin',\n",
       " 'https://en.wikipedia.org/wiki/List_of_works_by_El_Greco',\n",
       " 'https://en.wikipedia.org/wiki/List_of_paintings_by_Hans_Holbein_the_Younger',\n",
       " 'https://en.wikipedia.org/wiki/List_of_paintings_by_Wassily_Kandinsky',\n",
       " 'https://en.wikipedia.org/wiki/List_of_paintings_by_Georges_Lebacq',\n",
       " 'https://en.wikipedia.org/wiki/List_of_major_paintings_by_Masaccio',\n",
       " 'https://en.wikipedia.org/wiki/List_of_paintings_by_John_Everett_Millais',\n",
       " 'https://en.wikipedia.org/wiki/List_of_paintings_by_Mikhail_Nesterov',\n",
       " 'https://en.wikipedia.org/wiki/List_of_paintings_by_Nicolas_Poussin',\n",
       " 'https://en.wikipedia.org/wiki/List_of_paintings_by_Dante_Gabriel_Rossetti',\n",
       " 'https://en.wikipedia.org/wiki/List_of_works_by_Th%C3%A9r%C3%A8se_Schwartze',\n",
       " 'https://en.wikipedia.org/wiki/List_of_paintings_by_August_Strindberg',\n",
       " 'https://en.wikipedia.org/wiki/List_of_works_by_George_Vincent',\n",
       " 'https://en.wikipedia.org/wiki/List_of_gold-glass_portraits',\n",
       " 'https://en.wikipedia.org/wiki/List_of_artworks_on_stamps_of_the_United_States',\n",
       " 'https://en.wikipedia.org/wiki/Still_life_paintings_from_the_Netherlands,_1550-1720']"
      ]
     },
     "execution_count": 165,
     "metadata": {},
     "output_type": "execute_result"
    }
   ],
   "source": [
    "lst = []\n",
    "for i in range(5, 450, 6):\n",
    "    if driver.find_elements(By.XPATH, '//td')[i].text == '':\n",
    "        lst.append('')\n",
    "    else:\n",
    "        lst.append(driver.find_elements(By.XPATH, '//td//a')[i].get_attribute('href'))\n",
    "\n",
    "lst        "
   ]
  },
  {
   "cell_type": "code",
   "execution_count": 122,
   "metadata": {},
   "outputs": [],
   "source": [
    "a = driver.find_elements(By.XPATH, '//td//a')\n",
    "\n",
    "lst=[]\n",
    "for e in a:\n",
    "    if '[' in e.text:\n",
    "        lst.append(e.get_attribute('href'))\n",
    "    else:\n",
    "        lst.append('vacio')"
   ]
  },
  {
   "cell_type": "code",
   "execution_count": 123,
   "metadata": {},
   "outputs": [
    {
     "data": {
      "text/plain": [
       "450"
      ]
     },
     "execution_count": 123,
     "metadata": {},
     "output_type": "execute_result"
    }
   ],
   "source": [
    "len(lst)"
   ]
  },
  {
   "cell_type": "code",
   "execution_count": 207,
   "metadata": {},
   "outputs": [
    {
     "data": {
      "text/plain": [
       "[['Cylinder',\n",
       "  'Charcoal on paper',\n",
       "  '1894',\n",
       "  'Whitney Museum of American Art',\n",
       "  '37.9 cm × 27.3 cm\\n(14 15/16 in. × 10 3/4 in.)',\n",
       "  'https://en.wikipedia.org/wiki/File:Edward_Hopper_Cylinder.jpg'],\n",
       " ['Sailboats',\n",
       "  'Watercolor, graphite pencil\\non paper',\n",
       "  '1895',\n",
       "  'Whitney Museum of American Art',\n",
       "  '10.8 cm × 12.5 cm\\n(4 1/4 in. × 4 15/16 in.)',\n",
       "  'https://whitneymedia.org/assets/artwork/31342/49131.jpeg'],\n",
       " ['At Valley Forge',\n",
       "  'graphite pencil on paper',\n",
       "  '1895',\n",
       "  'Whitney Museum of American Art',\n",
       "  '20 cm × 15.6 cm\\n(7 7/8 in. × 6 1/8 in.)',\n",
       "  'https://whitneymedia.org/assets/artwork/22271/50119.jpeg'],\n",
       " ['The Lion at Play',\n",
       "  'Watercolor on paper',\n",
       "  '1896',\n",
       "  'Whitney Museum of American Art',\n",
       "  '10.8 cm × 16.8 cm\\n(4 1/4 in. × 6 5/8 in.)',\n",
       "  'https://whitneymedia.org/assets/artwork/31325/50204.jpeg'],\n",
       " ['Painter and Model',\n",
       "  'Oil on canvas',\n",
       "  '1902–1904',\n",
       "  'Whitney Museum of American Art',\n",
       "  '26 cm × 20.6 cm\\n(10 1/4 in. × 8 1/8 in.)',\n",
       "  'https://whitneymedia.org/assets/artwork/5935/131202.jpeg'],\n",
       " ['Bridge in Paris',\n",
       "  'Oil on canvas',\n",
       "  '1906',\n",
       "  'Whitney Museum of American Art',\n",
       "  '23.5 cm × 33 cm\\n(9 1/4 in. × 13 in.)',\n",
       "  'https://whitneymedia.org/assets/artwork/6058/131955.jpeg'],\n",
       " ['Le Pont des Arts',\n",
       "  'Oil on canvas',\n",
       "  '1907',\n",
       "  'Whitney Museum of American Art',\n",
       "  '60.2 cm × 73.2 cm\\n(23 11/16 in. × 28 13/16 in.)',\n",
       "  'https://whitneymedia.org/assets/artwork/5894/132246.jpeg']]"
      ]
     },
     "execution_count": 207,
     "metadata": {},
     "output_type": "execute_result"
    }
   ],
   "source": [
    "driver.find_element(By.TAG_NAME, 'tbody').text.split('\\n')\n",
    "tabla = driver.find_element(By.TAG_NAME, 'tbody')\n",
    "\n",
    "filas = tabla.find_elements(By.TAG_NAME, 'tr')\n",
    "\n",
    "\n",
    "data = []\n",
    "\n",
    "\n",
    "for f in filas:\n",
    "\n",
    "    elems = f.find_elements(By.TAG_NAME, 'td')\n",
    "\n",
    "    tmp = []\n",
    "\n",
    "    for e in range(len(elems)):\n",
    "        try:\n",
    "            if e == len(elems)-1:\n",
    "                url_img = elems[e].find_element(By.TAG_NAME,'a')\n",
    "                href = url_img.get_attribute('href')\n",
    "                tmp.append(href)\n",
    "            else:\n",
    "                tmp.append(elems[e].text)\n",
    "        except:\n",
    "                tmp.append('')\n",
    "\n",
    "    data.append(tmp)\n",
    "# como hacer la vaina esta metiendole las href de las imagenes. Probar con un if\n",
    "\n",
    "\n",
    "data[:7]"
   ]
  },
  {
   "cell_type": "code",
   "execution_count": 208,
   "metadata": {},
   "outputs": [],
   "source": [
    "# enlaces = []\n",
    "# for fila in filas:\n",
    "#     elementos = fila.find_elements(By.TAG_NAME, 'a')\n",
    "#     if elementos:\n",
    "#         enlace = elementos[0].get_attribute('href')\n",
    "#         if 'jpeg' in enlace:\n",
    "#             enlaces.append(enlace)\n",
    "\n",
    "# enlaces\n",
    "\n"
   ]
  },
  {
   "cell_type": "code",
   "execution_count": 61,
   "metadata": {},
   "outputs": [
    {
     "data": {
      "text/plain": [
       "147"
      ]
     },
     "execution_count": 61,
     "metadata": {},
     "output_type": "execute_result"
    }
   ],
   "source": [
    "len(enlaces) #not vale, hay algunas filas que no tienen foto"
   ]
  },
  {
   "cell_type": "code",
   "execution_count": 209,
   "metadata": {},
   "outputs": [
    {
     "data": {
      "text/html": [
       "<div>\n",
       "<style scoped>\n",
       "    .dataframe tbody tr th:only-of-type {\n",
       "        vertical-align: middle;\n",
       "    }\n",
       "\n",
       "    .dataframe tbody tr th {\n",
       "        vertical-align: top;\n",
       "    }\n",
       "\n",
       "    .dataframe thead th {\n",
       "        text-align: right;\n",
       "    }\n",
       "</style>\n",
       "<table border=\"1\" class=\"dataframe\">\n",
       "  <thead>\n",
       "    <tr style=\"text-align: right;\">\n",
       "      <th></th>\n",
       "      <th>Title</th>\n",
       "      <th>Medium</th>\n",
       "      <th>Date</th>\n",
       "      <th>Collection</th>\n",
       "      <th>Dimensions</th>\n",
       "      <th>Image</th>\n",
       "    </tr>\n",
       "  </thead>\n",
       "  <tbody>\n",
       "    <tr>\n",
       "      <th>144</th>\n",
       "      <td>New York Office</td>\n",
       "      <td>Oil on canvas</td>\n",
       "      <td>1962</td>\n",
       "      <td>Montgomery Museum of Fine Arts</td>\n",
       "      <td></td>\n",
       "      <td>http://www.cineclubdecaen.com/peinture/peintre...</td>\n",
       "    </tr>\n",
       "    <tr>\n",
       "      <th>145</th>\n",
       "      <td>Intermission</td>\n",
       "      <td>Oil on canvas</td>\n",
       "      <td>1963</td>\n",
       "      <td>San Francisco Museum of Modern Art</td>\n",
       "      <td>101.6 cm × 152.4 cm\\n(40 in. × 60 in.)</td>\n",
       "      <td>http://www.canvasreplicas.com/images/Intermiss...</td>\n",
       "    </tr>\n",
       "    <tr>\n",
       "      <th>146</th>\n",
       "      <td>Sun in an Empty Room</td>\n",
       "      <td>Oil on canvas</td>\n",
       "      <td>1963</td>\n",
       "      <td>Private collection</td>\n",
       "      <td></td>\n",
       "      <td>http://www.ibiblio.org/wm/paint/auth/hopper/in...</td>\n",
       "    </tr>\n",
       "    <tr>\n",
       "      <th>147</th>\n",
       "      <td>Chair Car</td>\n",
       "      <td>Oil on canvas</td>\n",
       "      <td>1965</td>\n",
       "      <td>Private collection</td>\n",
       "      <td></td>\n",
       "      <td>http://www.ibiblio.org/wm/paint/auth/hopper/in...</td>\n",
       "    </tr>\n",
       "    <tr>\n",
       "      <th>148</th>\n",
       "      <td>Two Comedians</td>\n",
       "      <td>Oil on canvas</td>\n",
       "      <td>1965</td>\n",
       "      <td>Private collection</td>\n",
       "      <td>73.7 cm × 101.6 cm</td>\n",
       "      <td>http://www.cineclubdecaen.com/peinture/peintre...</td>\n",
       "    </tr>\n",
       "  </tbody>\n",
       "</table>\n",
       "</div>"
      ],
      "text/plain": [
       "                    Title         Medium  Date   \n",
       "144       New York Office  Oil on canvas  1962  \\\n",
       "145          Intermission  Oil on canvas  1963   \n",
       "146  Sun in an Empty Room  Oil on canvas  1963   \n",
       "147             Chair Car  Oil on canvas  1965   \n",
       "148         Two Comedians  Oil on canvas  1965   \n",
       "\n",
       "                             Collection   \n",
       "144      Montgomery Museum of Fine Arts  \\\n",
       "145  San Francisco Museum of Modern Art   \n",
       "146                  Private collection   \n",
       "147                  Private collection   \n",
       "148                  Private collection   \n",
       "\n",
       "                                 Dimensions   \n",
       "144                                          \\\n",
       "145  101.6 cm × 152.4 cm\\n(40 in. × 60 in.)   \n",
       "146                                           \n",
       "147                                           \n",
       "148                      73.7 cm × 101.6 cm   \n",
       "\n",
       "                                                 Image  \n",
       "144  http://www.cineclubdecaen.com/peinture/peintre...  \n",
       "145  http://www.canvasreplicas.com/images/Intermiss...  \n",
       "146  http://www.ibiblio.org/wm/paint/auth/hopper/in...  \n",
       "147  http://www.ibiblio.org/wm/paint/auth/hopper/in...  \n",
       "148  http://www.cineclubdecaen.com/peinture/peintre...  "
      ]
     },
     "execution_count": 209,
     "metadata": {},
     "output_type": "execute_result"
    }
   ],
   "source": [
    "cabeceras = driver.find_element(By.TAG_NAME, 'thead').text.split()\n",
    "\n",
    "cabeceras\n",
    "hopper_art = pd.DataFrame(data, columns=cabeceras)\n",
    "hopper_art.tail()"
   ]
  },
  {
   "cell_type": "code",
   "execution_count": null,
   "metadata": {},
   "outputs": [],
   "source": [
    "hopper_art"
   ]
  },
  {
   "cell_type": "code",
   "execution_count": 63,
   "metadata": {},
   "outputs": [],
   "source": [
    "url = 'https://www.metmuseum.org/art/collection/search?q=Edward+Hopper&sortBy=Relevance&pageSize=0&searchField=ArtistCulture'\n",
    "driver=webdriver.Chrome(PATH)\n",
    "driver.get(url)\n",
    "time.sleep(5)"
   ]
  },
  {
   "cell_type": "code",
   "execution_count": 169,
   "metadata": {},
   "outputs": [
    {
     "ename": "TypeError",
     "evalue": "argument of type 'NoneType' is not iterable",
     "output_type": "error",
     "traceback": [
      "\u001b[1;31m---------------------------------------------------------------------------\u001b[0m",
      "\u001b[1;31mTypeError\u001b[0m                                 Traceback (most recent call last)",
      "Cell \u001b[1;32mIn[169], line 6\u001b[0m\n\u001b[0;32m      4\u001b[0m \u001b[39mfor\u001b[39;00m nombre \u001b[39min\u001b[39;00m nombre_enl:\n\u001b[0;32m      5\u001b[0m     enlaces \u001b[39m=\u001b[39m nombre\u001b[39m.\u001b[39mget_attribute(\u001b[39m'\u001b[39m\u001b[39mhref\u001b[39m\u001b[39m'\u001b[39m)\n\u001b[1;32m----> 6\u001b[0m     \u001b[39mif\u001b[39;00m \u001b[39m'\u001b[39;49m\u001b[39mpos\u001b[39;49m\u001b[39m'\u001b[39;49m \u001b[39min\u001b[39;49;00m enlaces:\n\u001b[0;32m      7\u001b[0m         enl\u001b[39m.\u001b[39mappend(enlaces)\n\u001b[0;32m      9\u001b[0m enl[:\u001b[39m2\u001b[39m]\n",
      "\u001b[1;31mTypeError\u001b[0m: argument of type 'NoneType' is not iterable"
     ]
    }
   ],
   "source": [
    "nombre_enl = driver.find_elements(By.TAG_NAME, 'a')\n",
    "\n",
    "enl = []\n",
    "for nombre in nombre_enl:\n",
    "    enlaces = nombre.get_attribute('href')\n",
    "    if 'pos' in enlaces:\n",
    "        enl.append(enlaces)\n",
    "\n",
    "# enl[:2]"
   ]
  },
  {
   "cell_type": "code",
   "execution_count": 65,
   "metadata": {},
   "outputs": [
    {
     "data": {
      "text/plain": [
       "{'Tables for Ladies': 'In Hopper’s Tables for Ladies, a waitress leans forward to adjust the vividly painted foods at the window as a couple sits quietly in the richly paneled and well-lit interior. A cashier attentively tends to business at her register. Though they appear weary and detached, these two women hold posts newly available to female city dwellers outside the home. The painting’s title alludes to a recent social innovation in which establishments advertised \"tables for ladies\" in order to welcome their newly mobile female customers, who, if seen dining alone in public previously, were assumed to be prostitutes.',\n",
       " 'From Williamsburg Bridge': 'In this painting, Hopper depicts the austere facades of four apartment buildings and reduces the steel suspension of the Williamsburg Bridge to the margins. Completed in 1903 and connecting Brooklyn with Manhattan, the structure is indicated only by the unobtrusive railing rising at a slight diagonal along the bottom of the canvas. As opposed to focusing on the bridge that facilitates movement in and out of the city, Hopper creates an image absent of noise or motion. He emphasizes the alienation and anonymity of urban life by including a single figure: a woman sitting alone in a top story window.',\n",
       " 'Barn and Silo, Vermont': '',\n",
       " 'Coast Guard Station, Two Lights, Maine': 'On his repeated summer visits to Cape Elizabeth, Maine, Hopper painted several views of the Two Lights lighthouses and a Coast Guard station that stood in an adjacent cove (see MMA 62.95). In Hopper\\'s ledger, this location, with its white sand and vivid blue water, is described as having a \"very clean & swept look\" (Artist\\'s ledger, Whitney Museum of American Art). His composition of the Coast Guard station and its landscape is similarly and appropriately clean. The water and the rocks in the foreground are painted in loose, limpid washes of color, and the repeated angles of the station\\'s various gables, punctuated by the slender vertical of the flagpole that rises from its roof, are more tightly delineated. This is a sunny, tranquil landscape whose subject nonetheless alludes to the darker possibilities of dangerous rescues from the ocean. Hopper had worked very little in watercolor before 1923. However, he soon demonstrated a mastery of the medium after his wife Jo, who was also an artist, encouraged him to utilize it for his outdoor studies.',\n",
       " 'House of the Foghorn, I': '',\n",
       " 'Saltillo Mansion': \"Hopper and his wife Jo traveled to Mexico in the summer of 1943, seeking a change of scene and new subjects for Hopper's art. After stopping in Mexico City, they traveled 500 miles north to Saltillo, a smaller city whose cool, dry climate and views of nearby mountains made it a popular destination for vacationers. The Hoppers stayed at a hotel called the Guarhado House on Victoria Street, and Hopper painted several watercolors from the hotel roof. From this height, he could see the mountains over the buildings of the city, but his depictions of the scene still suggest the urban development that was blocking his enjoyment of the natural setting. In another work, he showed the colorful towers of Saltillo's eighteenth-century cathedral, a reminder of the city's roots as a Spanish settlement; here, however, he limits his scope to a partial view of some domestic architecture. The houses' simple, blocklike forms, trimmed with lattices and decorative carving, are a dazzling white against the sky and the distant hills. Hopper had initially complained that Saltillo was noisy and congested, but from his rooftop he could project onto this new setting the same stillness and solitude that pervaded his scenes of New York and New England.\",\n",
       " 'Church of San Esteban': '',\n",
       " 'Folly Beach, Charleston, South Carolina': '',\n",
       " 'D. & R.G. Locomotive': '',\n",
       " 'The Lighthouse at Two Lights': 'In this work, Hopper isolates the dramatic silhouette of a lighthouse against an open expanse of blue sky. Set on a rocky promontory in Cape Elizabeth, Maine, the architecture is bathed in bright sunlight offset by dark shadows. Standing proudly upright and seen from below, the lighthouse at Two Lights seems to symbolize a resolute resistance, even refusal, to submit to change or nature. For Hopper, who had been summering in Maine since 1914, the lighthouse also signified a pleasurable reprieve from life in New York.',\n",
       " 'Office in a Small City': 'The Metropolitan Museum acquired this painting shortly after it was completed in late October 1953. Begun in Cape Cod over the summer and finished in New York City, it was the only oil painting Hopper produced that year. Reprising one of his signature subjects—a solitary figure, physically and emotionally detached from his surroundings and other people—it was described by the artist’s wife as \"the man in concrete wall.\"',\n",
       " 'The Lighthouse': '',\n",
       " 'Cat Boat': \"Hopper's image celebrates summer's warmth as two muscular men sail a cat-boat, distinguished by its single sail, along the New England coast. The artist had returned to New York from Paris in 1910 and took up etching when his paintings failed to find buyers, producing about 70 prints between 1915 and 1923. In addition to depicting men and women experiencing the urban fabric of New York, he evoked memories of France, and explored rural and coastal landscapes in Maine and Massachusetts. After Hopper received two awards for his prints in 1923—the Logan Prize from the Chicago Society of Etchers and the W. A. Bryan Prize—he refocused his energies on painting, but often returned to subjects he had used etching to shape.\",\n",
       " 'Night in the Park': '',\n",
       " 'East Side Interior': 'In a New York interior, a woman looks up from her sewing machine to gaze out an open window, the heat suggested by the loosened neck of her dress. Hopper had returned to New York from Paris in 1910 and took up etching when his paintings failed to find buyers, producing about 70 prints between 1915 and 1923. In addition to men and women experiencing the distinct fabric of his new home town, the artist evoked memories of France and explored rural and coastal landscapes in Maine and Massachusetts. After Hopper received two awards for his prints in 1923—the Logan Prize from the Chicago Society of Etchers and the W. A. Bryan Prize—he refocused his energies on painting, but often returned to subjects he had used etching to shape.',\n",
       " 'House Tops': 'In this New York scene, a woman gazes across the city from an elevated train as a fellow passenger with packages seems lost in thought. Hopper had returned to New York from Paris in 1910 and took up etching when his paintings failed to find buyers, producing about 70 prints between 1915 and 1923. In addition to showing men and women experiencing the urban fabric, he evoked memories of France, and explored rural and coastal landscapes in Maine and Massachusetts. After Hopper received two awards for his prints in 1923—the Logan Prize from the Chicago Society of Etchers and the W. A. Bryan Prize—he refocused his energies on painting, but often returned to subjects he had used etching to shape.',\n",
       " 'Railroad Crossing': '',\n",
       " 'Train and Bathers': '',\n",
       " 'American Landscape': '',\n",
       " 'The Lonely House': '',\n",
       " 'Aux Fortifications': '',\n",
       " 'Les Deux Pigeons': '',\n",
       " 'The Railroad': '',\n",
       " 'Night Shadows': '',\n",
       " 'Night on the El Train': 'A couple huddles by an open window in the corner of a train carriage. Despite the movement of the train, indicated by the billowing shades and swaying straps, Hopper created a still and enigmatic moment within a normally noisy environment. He employed his characteristic angled viewpoint, which is emphasized here by the row of empty seats behind the couple.',\n",
       " 'Evening Wind': '',\n",
       " 'The Cat Boat': ''}"
      ]
     },
     "execution_count": 65,
     "metadata": {},
     "output_type": "execute_result"
    }
   ],
   "source": [
    "descri = {}\n",
    "for cuadro in enl:\n",
    "    driver.get(cuadro)\n",
    "    descri[driver.find_element(By.XPATH, '//*[@id=\"artwork__title\"]/span/span').text] = driver.find_element(By.XPATH, '//*[@id=\"artwork-section\"]/div/div/div[1]/div/div/p').text\n",
    "\n",
    "descri"
   ]
  },
  {
   "cell_type": "code",
   "execution_count": 66,
   "metadata": {},
   "outputs": [],
   "source": [
    "# url = 'https://www.metmuseum.org/art/collection/search/487695?searchField=ArtistCulture&amp;sortBy=Relevance&amp;ft=Edward+Hopper&amp;offset=0&amp;rpp=40&amp;pos=1'\n",
    "# driver=webdriver.Chrome(PATH)\n",
    "# driver.get(url)\n",
    "# time.sleep(5)"
   ]
  },
  {
   "cell_type": "code",
   "execution_count": 67,
   "metadata": {},
   "outputs": [],
   "source": [
    "# a = driver.find_element(By.XPATH, '//*[@id=\"artwork-section\"]/div/div/div[1]/div/div/p').text\n",
    "\n",
    "# a"
   ]
  },
  {
   "cell_type": "code",
   "execution_count": 68,
   "metadata": {},
   "outputs": [],
   "source": [
    "# b = driver.find_element(By.XPATH, '//*[@id=\"artwork__title\"]/span/span').text\n",
    "\n",
    "# b"
   ]
  },
  {
   "cell_type": "code",
   "execution_count": 192,
   "metadata": {},
   "outputs": [],
   "source": [
    "descrip = pd.DataFrame(list(descri.items()), columns=['Title', 'Description'])\n",
    "# descrip"
   ]
  },
  {
   "cell_type": "code",
   "execution_count": 210,
   "metadata": {},
   "outputs": [
    {
     "data": {
      "text/html": [
       "<div>\n",
       "<style scoped>\n",
       "    .dataframe tbody tr th:only-of-type {\n",
       "        vertical-align: middle;\n",
       "    }\n",
       "\n",
       "    .dataframe tbody tr th {\n",
       "        vertical-align: top;\n",
       "    }\n",
       "\n",
       "    .dataframe thead th {\n",
       "        text-align: right;\n",
       "    }\n",
       "</style>\n",
       "<table border=\"1\" class=\"dataframe\">\n",
       "  <thead>\n",
       "    <tr style=\"text-align: right;\">\n",
       "      <th></th>\n",
       "      <th>Title</th>\n",
       "      <th>Medium</th>\n",
       "      <th>Date</th>\n",
       "      <th>Collection</th>\n",
       "      <th>Dimensions</th>\n",
       "      <th>Image</th>\n",
       "      <th>Description</th>\n",
       "    </tr>\n",
       "  </thead>\n",
       "  <tbody>\n",
       "    <tr>\n",
       "      <th>0</th>\n",
       "      <td>Cylinder</td>\n",
       "      <td>Charcoal on paper</td>\n",
       "      <td>1894</td>\n",
       "      <td>Whitney Museum of American Art</td>\n",
       "      <td>37.9 cm × 27.3 cm\\n(14 15/16 in. × 10 3/4 in.)</td>\n",
       "      <td>https://en.wikipedia.org/wiki/File:Edward_Hopp...</td>\n",
       "      <td>NaN</td>\n",
       "    </tr>\n",
       "    <tr>\n",
       "      <th>1</th>\n",
       "      <td>Sailboats</td>\n",
       "      <td>Watercolor, graphite pencil\\non paper</td>\n",
       "      <td>1895</td>\n",
       "      <td>Whitney Museum of American Art</td>\n",
       "      <td>10.8 cm × 12.5 cm\\n(4 1/4 in. × 4 15/16 in.)</td>\n",
       "      <td>https://whitneymedia.org/assets/artwork/31342/...</td>\n",
       "      <td>NaN</td>\n",
       "    </tr>\n",
       "    <tr>\n",
       "      <th>2</th>\n",
       "      <td>At Valley Forge</td>\n",
       "      <td>graphite pencil on paper</td>\n",
       "      <td>1895</td>\n",
       "      <td>Whitney Museum of American Art</td>\n",
       "      <td>20 cm × 15.6 cm\\n(7 7/8 in. × 6 1/8 in.)</td>\n",
       "      <td>https://whitneymedia.org/assets/artwork/22271/...</td>\n",
       "      <td>NaN</td>\n",
       "    </tr>\n",
       "    <tr>\n",
       "      <th>3</th>\n",
       "      <td>The Lion at Play</td>\n",
       "      <td>Watercolor on paper</td>\n",
       "      <td>1896</td>\n",
       "      <td>Whitney Museum of American Art</td>\n",
       "      <td>10.8 cm × 16.8 cm\\n(4 1/4 in. × 6 5/8 in.)</td>\n",
       "      <td>https://whitneymedia.org/assets/artwork/31325/...</td>\n",
       "      <td>NaN</td>\n",
       "    </tr>\n",
       "    <tr>\n",
       "      <th>4</th>\n",
       "      <td>Painter and Model</td>\n",
       "      <td>Oil on canvas</td>\n",
       "      <td>1902–1904</td>\n",
       "      <td>Whitney Museum of American Art</td>\n",
       "      <td>26 cm × 20.6 cm\\n(10 1/4 in. × 8 1/8 in.)</td>\n",
       "      <td>https://whitneymedia.org/assets/artwork/5935/1...</td>\n",
       "      <td>NaN</td>\n",
       "    </tr>\n",
       "    <tr>\n",
       "      <th>...</th>\n",
       "      <td>...</td>\n",
       "      <td>...</td>\n",
       "      <td>...</td>\n",
       "      <td>...</td>\n",
       "      <td>...</td>\n",
       "      <td>...</td>\n",
       "      <td>...</td>\n",
       "    </tr>\n",
       "    <tr>\n",
       "      <th>144</th>\n",
       "      <td>New York Office</td>\n",
       "      <td>Oil on canvas</td>\n",
       "      <td>1962</td>\n",
       "      <td>Montgomery Museum of Fine Arts</td>\n",
       "      <td></td>\n",
       "      <td>http://www.cineclubdecaen.com/peinture/peintre...</td>\n",
       "      <td>NaN</td>\n",
       "    </tr>\n",
       "    <tr>\n",
       "      <th>145</th>\n",
       "      <td>Intermission</td>\n",
       "      <td>Oil on canvas</td>\n",
       "      <td>1963</td>\n",
       "      <td>San Francisco Museum of Modern Art</td>\n",
       "      <td>101.6 cm × 152.4 cm\\n(40 in. × 60 in.)</td>\n",
       "      <td>http://www.canvasreplicas.com/images/Intermiss...</td>\n",
       "      <td>NaN</td>\n",
       "    </tr>\n",
       "    <tr>\n",
       "      <th>146</th>\n",
       "      <td>Sun in an Empty Room</td>\n",
       "      <td>Oil on canvas</td>\n",
       "      <td>1963</td>\n",
       "      <td>Private collection</td>\n",
       "      <td></td>\n",
       "      <td>http://www.ibiblio.org/wm/paint/auth/hopper/in...</td>\n",
       "      <td>NaN</td>\n",
       "    </tr>\n",
       "    <tr>\n",
       "      <th>147</th>\n",
       "      <td>Chair Car</td>\n",
       "      <td>Oil on canvas</td>\n",
       "      <td>1965</td>\n",
       "      <td>Private collection</td>\n",
       "      <td></td>\n",
       "      <td>http://www.ibiblio.org/wm/paint/auth/hopper/in...</td>\n",
       "      <td>NaN</td>\n",
       "    </tr>\n",
       "    <tr>\n",
       "      <th>148</th>\n",
       "      <td>Two Comedians</td>\n",
       "      <td>Oil on canvas</td>\n",
       "      <td>1965</td>\n",
       "      <td>Private collection</td>\n",
       "      <td>73.7 cm × 101.6 cm</td>\n",
       "      <td>http://www.cineclubdecaen.com/peinture/peintre...</td>\n",
       "      <td>NaN</td>\n",
       "    </tr>\n",
       "  </tbody>\n",
       "</table>\n",
       "<p>149 rows × 7 columns</p>\n",
       "</div>"
      ],
      "text/plain": [
       "                    Title                                 Medium       Date   \n",
       "0                Cylinder                      Charcoal on paper       1894  \\\n",
       "1               Sailboats  Watercolor, graphite pencil\\non paper       1895   \n",
       "2         At Valley Forge               graphite pencil on paper       1895   \n",
       "3        The Lion at Play                    Watercolor on paper       1896   \n",
       "4       Painter and Model                          Oil on canvas  1902–1904   \n",
       "..                    ...                                    ...        ...   \n",
       "144       New York Office                          Oil on canvas       1962   \n",
       "145          Intermission                          Oil on canvas       1963   \n",
       "146  Sun in an Empty Room                          Oil on canvas       1963   \n",
       "147             Chair Car                          Oil on canvas       1965   \n",
       "148         Two Comedians                          Oil on canvas       1965   \n",
       "\n",
       "                             Collection   \n",
       "0        Whitney Museum of American Art  \\\n",
       "1        Whitney Museum of American Art   \n",
       "2        Whitney Museum of American Art   \n",
       "3        Whitney Museum of American Art   \n",
       "4        Whitney Museum of American Art   \n",
       "..                                  ...   \n",
       "144      Montgomery Museum of Fine Arts   \n",
       "145  San Francisco Museum of Modern Art   \n",
       "146                  Private collection   \n",
       "147                  Private collection   \n",
       "148                  Private collection   \n",
       "\n",
       "                                         Dimensions   \n",
       "0    37.9 cm × 27.3 cm\\n(14 15/16 in. × 10 3/4 in.)  \\\n",
       "1      10.8 cm × 12.5 cm\\n(4 1/4 in. × 4 15/16 in.)   \n",
       "2          20 cm × 15.6 cm\\n(7 7/8 in. × 6 1/8 in.)   \n",
       "3        10.8 cm × 16.8 cm\\n(4 1/4 in. × 6 5/8 in.)   \n",
       "4         26 cm × 20.6 cm\\n(10 1/4 in. × 8 1/8 in.)   \n",
       "..                                              ...   \n",
       "144                                                   \n",
       "145          101.6 cm × 152.4 cm\\n(40 in. × 60 in.)   \n",
       "146                                                   \n",
       "147                                                   \n",
       "148                              73.7 cm × 101.6 cm   \n",
       "\n",
       "                                                 Image Description  \n",
       "0    https://en.wikipedia.org/wiki/File:Edward_Hopp...         NaN  \n",
       "1    https://whitneymedia.org/assets/artwork/31342/...         NaN  \n",
       "2    https://whitneymedia.org/assets/artwork/22271/...         NaN  \n",
       "3    https://whitneymedia.org/assets/artwork/31325/...         NaN  \n",
       "4    https://whitneymedia.org/assets/artwork/5935/1...         NaN  \n",
       "..                                                 ...         ...  \n",
       "144  http://www.cineclubdecaen.com/peinture/peintre...         NaN  \n",
       "145  http://www.canvasreplicas.com/images/Intermiss...         NaN  \n",
       "146  http://www.ibiblio.org/wm/paint/auth/hopper/in...         NaN  \n",
       "147  http://www.ibiblio.org/wm/paint/auth/hopper/in...         NaN  \n",
       "148  http://www.cineclubdecaen.com/peinture/peintre...         NaN  \n",
       "\n",
       "[149 rows x 7 columns]"
      ]
     },
     "execution_count": 210,
     "metadata": {},
     "output_type": "execute_result"
    }
   ],
   "source": [
    "hopper_ad = pd.merge(hopper_art, descrip, on='Title', how='left')\n",
    "\n",
    "hopper_ad\n"
   ]
  },
  {
   "cell_type": "code",
   "execution_count": 211,
   "metadata": {},
   "outputs": [
    {
     "data": {
      "text/html": [
       "<div>\n",
       "<style scoped>\n",
       "    .dataframe tbody tr th:only-of-type {\n",
       "        vertical-align: middle;\n",
       "    }\n",
       "\n",
       "    .dataframe tbody tr th {\n",
       "        vertical-align: top;\n",
       "    }\n",
       "\n",
       "    .dataframe thead th {\n",
       "        text-align: right;\n",
       "    }\n",
       "</style>\n",
       "<table border=\"1\" class=\"dataframe\">\n",
       "  <thead>\n",
       "    <tr style=\"text-align: right;\">\n",
       "      <th></th>\n",
       "      <th>Title</th>\n",
       "      <th>Medium</th>\n",
       "      <th>Date</th>\n",
       "      <th>Collection</th>\n",
       "      <th>Dimensions</th>\n",
       "      <th>Image</th>\n",
       "      <th>Description</th>\n",
       "    </tr>\n",
       "  </thead>\n",
       "  <tbody>\n",
       "    <tr>\n",
       "      <th>0</th>\n",
       "      <td>Cylinder</td>\n",
       "      <td>Charcoal on paper</td>\n",
       "      <td>1894</td>\n",
       "      <td>Whitney Museum of American Art</td>\n",
       "      <td>37.9 cm × 27.3 cm\\n(14 15/16 in. × 10 3/4 in.)</td>\n",
       "      <td>https://en.wikipedia.org/wiki/File:Edward_Hopp...</td>\n",
       "      <td></td>\n",
       "    </tr>\n",
       "    <tr>\n",
       "      <th>1</th>\n",
       "      <td>Sailboats</td>\n",
       "      <td>Watercolor, graphite pencil\\non paper</td>\n",
       "      <td>1895</td>\n",
       "      <td>Whitney Museum of American Art</td>\n",
       "      <td>10.8 cm × 12.5 cm\\n(4 1/4 in. × 4 15/16 in.)</td>\n",
       "      <td>https://whitneymedia.org/assets/artwork/31342/...</td>\n",
       "      <td></td>\n",
       "    </tr>\n",
       "    <tr>\n",
       "      <th>2</th>\n",
       "      <td>At Valley Forge</td>\n",
       "      <td>graphite pencil on paper</td>\n",
       "      <td>1895</td>\n",
       "      <td>Whitney Museum of American Art</td>\n",
       "      <td>20 cm × 15.6 cm\\n(7 7/8 in. × 6 1/8 in.)</td>\n",
       "      <td>https://whitneymedia.org/assets/artwork/22271/...</td>\n",
       "      <td></td>\n",
       "    </tr>\n",
       "    <tr>\n",
       "      <th>3</th>\n",
       "      <td>The Lion at Play</td>\n",
       "      <td>Watercolor on paper</td>\n",
       "      <td>1896</td>\n",
       "      <td>Whitney Museum of American Art</td>\n",
       "      <td>10.8 cm × 16.8 cm\\n(4 1/4 in. × 6 5/8 in.)</td>\n",
       "      <td>https://whitneymedia.org/assets/artwork/31325/...</td>\n",
       "      <td></td>\n",
       "    </tr>\n",
       "    <tr>\n",
       "      <th>4</th>\n",
       "      <td>Painter and Model</td>\n",
       "      <td>Oil on canvas</td>\n",
       "      <td>1902–1904</td>\n",
       "      <td>Whitney Museum of American Art</td>\n",
       "      <td>26 cm × 20.6 cm\\n(10 1/4 in. × 8 1/8 in.)</td>\n",
       "      <td>https://whitneymedia.org/assets/artwork/5935/1...</td>\n",
       "      <td></td>\n",
       "    </tr>\n",
       "  </tbody>\n",
       "</table>\n",
       "</div>"
      ],
      "text/plain": [
       "               Title                                 Medium       Date   \n",
       "0           Cylinder                      Charcoal on paper       1894  \\\n",
       "1          Sailboats  Watercolor, graphite pencil\\non paper       1895   \n",
       "2    At Valley Forge               graphite pencil on paper       1895   \n",
       "3   The Lion at Play                    Watercolor on paper       1896   \n",
       "4  Painter and Model                          Oil on canvas  1902–1904   \n",
       "\n",
       "                       Collection   \n",
       "0  Whitney Museum of American Art  \\\n",
       "1  Whitney Museum of American Art   \n",
       "2  Whitney Museum of American Art   \n",
       "3  Whitney Museum of American Art   \n",
       "4  Whitney Museum of American Art   \n",
       "\n",
       "                                       Dimensions   \n",
       "0  37.9 cm × 27.3 cm\\n(14 15/16 in. × 10 3/4 in.)  \\\n",
       "1    10.8 cm × 12.5 cm\\n(4 1/4 in. × 4 15/16 in.)   \n",
       "2        20 cm × 15.6 cm\\n(7 7/8 in. × 6 1/8 in.)   \n",
       "3      10.8 cm × 16.8 cm\\n(4 1/4 in. × 6 5/8 in.)   \n",
       "4       26 cm × 20.6 cm\\n(10 1/4 in. × 8 1/8 in.)   \n",
       "\n",
       "                                               Image Description  \n",
       "0  https://en.wikipedia.org/wiki/File:Edward_Hopp...              \n",
       "1  https://whitneymedia.org/assets/artwork/31342/...              \n",
       "2  https://whitneymedia.org/assets/artwork/22271/...              \n",
       "3  https://whitneymedia.org/assets/artwork/31325/...              \n",
       "4  https://whitneymedia.org/assets/artwork/5935/1...              "
      ]
     },
     "execution_count": 211,
     "metadata": {},
     "output_type": "execute_result"
    }
   ],
   "source": [
    "hopper_ad.fillna('', inplace=True)\n",
    "hopper_ad.head()"
   ]
  },
  {
   "cell_type": "code",
   "execution_count": 217,
   "metadata": {},
   "outputs": [],
   "source": [
    "n = len(hopper_ad)\n",
    "new_col = [2726] * n\n",
    "df['artists_id'] = new_col\n"
   ]
  },
  {
   "cell_type": "code",
   "execution_count": 218,
   "metadata": {},
   "outputs": [],
   "source": [
    "hopper_ad.to_csv('art_hopper.csv', sep=';', index=False)"
   ]
  },
  {
   "cell_type": "code",
   "execution_count": 172,
   "metadata": {},
   "outputs": [],
   "source": [
    "url = 'https://www.google.com/search?q=edward+hopper&sxsrf=APwXEde_z50Hk7-5drUaIDnWAOWFTpfbVA%3A1683556670908&ei=PglZZPeNN5SIkdUP48OcuAw&ved=0ahUKEwj3pNCq-eX-AhUURKQEHeMhB8cQ4dUDCA8&uact=5&oq=edward+hopper&gs_lcp=Cgxnd3Mtd2l6LXNlcnAQAzIECCMQJzIHCCMQigUQJzINCC4QgwEQsQMQigUQQzIGCAAQBxAeMgcIABCKBRBDMgcIABCKBRBDMgYIABAHEB4yDgguEIAEEMcBEK8BENQCMgUIABCABDIFCAAQgAQ6BwgjELADECc6BwgjELACECc6CAgAEAgQBxAeSgQIQRgBUOYEWNQJYIgMaAFwAHgAgAFuiAGpBJIBAzUuMZgBAKABAcgBAcABAQ&sclient=gws-wiz-serp'\n",
    "driver=webdriver.Chrome(PATH)\n",
    "driver.get(url)\n",
    "time.sleep(5)"
   ]
  },
  {
   "cell_type": "code",
   "execution_count": 182,
   "metadata": {},
   "outputs": [
    {
     "name": "stdout",
     "output_type": "stream",
     "text": [
      "Nacimiento: 22 de julio de 1882, Nyack, Nueva York, Estados Unidos\n"
     ]
    }
   ],
   "source": [
    "bio = driver.find_elements(By.CLASS_NAME, 'rVusze')\n",
    "print(bio[0].text)"
   ]
  },
  {
   "cell_type": "code",
   "execution_count": 183,
   "metadata": {},
   "outputs": [
    {
     "data": {
      "text/plain": [
       "{'Nacimiento': ' 22 de julio de 1882, Nyack, Nueva York, Estados Unidos',\n",
       " 'Fallecimiento': ' 15 de mayo de 1967, Washington Square North, Nueva York, Estados Unidos',\n",
       " 'Períodos': ' Realismo artístico, Impresionismo, Arte moderno, Escuela Ashcan',\n",
       " 'Cónyuge': ' Josephine Hopper (m. 1924–1967)',\n",
       " 'Influenciado por': ' Robert Henri, Gustave Courbet, Honoré Daumier, Paul Strand',\n",
       " 'Padres': ' Garret Henry Hopper, Elizabeth Griffiths Smith'}"
      ]
     },
     "execution_count": 183,
     "metadata": {},
     "output_type": "execute_result"
    }
   ],
   "source": [
    "biography = {}\n",
    "for dato in bio:\n",
    "\n",
    "    biography[dato.text.split(':')[0]] = dato.text.split(':')[1]\n",
    "\n",
    "biography                                                              "
   ]
  },
  {
   "cell_type": "code",
   "execution_count": 188,
   "metadata": {},
   "outputs": [
    {
     "data": {
      "text/html": [
       "<div>\n",
       "<style scoped>\n",
       "    .dataframe tbody tr th:only-of-type {\n",
       "        vertical-align: middle;\n",
       "    }\n",
       "\n",
       "    .dataframe tbody tr th {\n",
       "        vertical-align: top;\n",
       "    }\n",
       "\n",
       "    .dataframe thead th {\n",
       "        text-align: right;\n",
       "    }\n",
       "</style>\n",
       "<table border=\"1\" class=\"dataframe\">\n",
       "  <thead>\n",
       "    <tr style=\"text-align: right;\">\n",
       "      <th></th>\n",
       "      <th>Nacimiento</th>\n",
       "      <th>Fallecimiento</th>\n",
       "      <th>Períodos</th>\n",
       "      <th>Cónyuge</th>\n",
       "      <th>Influenciado por</th>\n",
       "      <th>Padres</th>\n",
       "    </tr>\n",
       "  </thead>\n",
       "  <tbody>\n",
       "    <tr>\n",
       "      <th>0</th>\n",
       "      <td>22 de julio de 1882, Nyack, Nueva York, Estad...</td>\n",
       "      <td>15 de mayo de 1967, Washington Square North, ...</td>\n",
       "      <td>Realismo artístico, Impresionismo, Arte moder...</td>\n",
       "      <td>Josephine Hopper (m. 1924–1967)</td>\n",
       "      <td>Robert Henri, Gustave Courbet, Honoré Daumier...</td>\n",
       "      <td>Garret Henry Hopper, Elizabeth Griffiths Smith</td>\n",
       "    </tr>\n",
       "  </tbody>\n",
       "</table>\n",
       "</div>"
      ],
      "text/plain": [
       "                                          Nacimiento   \n",
       "0   22 de julio de 1882, Nyack, Nueva York, Estad...  \\\n",
       "\n",
       "                                       Fallecimiento   \n",
       "0   15 de mayo de 1967, Washington Square North, ...  \\\n",
       "\n",
       "                                            Períodos   \n",
       "0   Realismo artístico, Impresionismo, Arte moder...  \\\n",
       "\n",
       "                            Cónyuge   \n",
       "0   Josephine Hopper (m. 1924–1967)  \\\n",
       "\n",
       "                                    Influenciado por   \n",
       "0   Robert Henri, Gustave Courbet, Honoré Daumier...  \\\n",
       "\n",
       "                                            Padres  \n",
       "0   Garret Henry Hopper, Elizabeth Griffiths Smith  "
      ]
     },
     "execution_count": 188,
     "metadata": {},
     "output_type": "execute_result"
    }
   ],
   "source": [
    "index = [0]\n",
    "bio = pd.DataFrame(biography, index=index)\n"
   ]
  },
  {
   "cell_type": "code",
   "execution_count": 223,
   "metadata": {},
   "outputs": [
    {
     "data": {
      "text/html": [
       "<div>\n",
       "<style scoped>\n",
       "    .dataframe tbody tr th:only-of-type {\n",
       "        vertical-align: middle;\n",
       "    }\n",
       "\n",
       "    .dataframe tbody tr th {\n",
       "        vertical-align: top;\n",
       "    }\n",
       "\n",
       "    .dataframe thead th {\n",
       "        text-align: right;\n",
       "    }\n",
       "</style>\n",
       "<table border=\"1\" class=\"dataframe\">\n",
       "  <thead>\n",
       "    <tr style=\"text-align: right;\">\n",
       "      <th></th>\n",
       "      <th>Nacimiento</th>\n",
       "      <th>Fallecimiento</th>\n",
       "      <th>Períodos</th>\n",
       "      <th>Cónyuge</th>\n",
       "      <th>Influenciado por</th>\n",
       "      <th>Padres</th>\n",
       "      <th>artists_id</th>\n",
       "    </tr>\n",
       "  </thead>\n",
       "  <tbody>\n",
       "    <tr>\n",
       "      <th>0</th>\n",
       "      <td>22 de julio de 1882, Nyack, Nueva York, Estad...</td>\n",
       "      <td>15 de mayo de 1967, Washington Square North, ...</td>\n",
       "      <td>Realismo artístico, Impresionismo, Arte moder...</td>\n",
       "      <td>Josephine Hopper (m. 1924–1967)</td>\n",
       "      <td>Robert Henri, Gustave Courbet, Honoré Daumier...</td>\n",
       "      <td>Garret Henry Hopper, Elizabeth Griffiths Smith</td>\n",
       "      <td>2726</td>\n",
       "    </tr>\n",
       "  </tbody>\n",
       "</table>\n",
       "</div>"
      ],
      "text/plain": [
       "                                          Nacimiento   \n",
       "0   22 de julio de 1882, Nyack, Nueva York, Estad...  \\\n",
       "\n",
       "                                       Fallecimiento   \n",
       "0   15 de mayo de 1967, Washington Square North, ...  \\\n",
       "\n",
       "                                            Períodos   \n",
       "0   Realismo artístico, Impresionismo, Arte moder...  \\\n",
       "\n",
       "                            Cónyuge   \n",
       "0   Josephine Hopper (m. 1924–1967)  \\\n",
       "\n",
       "                                    Influenciado por   \n",
       "0   Robert Henri, Gustave Courbet, Honoré Daumier...  \\\n",
       "\n",
       "                                            Padres  artists_id  \n",
       "0   Garret Henry Hopper, Elizabeth Griffiths Smith        2726  "
      ]
     },
     "execution_count": 223,
     "metadata": {},
     "output_type": "execute_result"
    }
   ],
   "source": [
    "new_col = [2726]\n",
    "bio['artists_id'] = new_col\n",
    "bio"
   ]
  },
  {
   "cell_type": "code",
   "execution_count": 224,
   "metadata": {},
   "outputs": [],
   "source": [
    "bio.to_csv('biography.csv', index=False)"
   ]
  }
 ],
 "metadata": {
  "kernelspec": {
   "display_name": "Python 3",
   "language": "python",
   "name": "python3"
  },
  "language_info": {
   "codemirror_mode": {
    "name": "ipython",
    "version": 3
   },
   "file_extension": ".py",
   "mimetype": "text/x-python",
   "name": "python",
   "nbconvert_exporter": "python",
   "pygments_lexer": "ipython3",
   "version": "3.11.3"
  },
  "orig_nbformat": 4
 },
 "nbformat": 4,
 "nbformat_minor": 2
}
