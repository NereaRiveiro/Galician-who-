{
 "cells": [
  {
   "attachments": {},
   "cell_type": "markdown",
   "metadata": {},
   "source": [
    "EDWARD HOPPER"
   ]
  },
  {
   "cell_type": "code",
   "execution_count": 1,
   "metadata": {},
   "outputs": [
    {
     "name": "stderr",
     "output_type": "stream",
     "text": [
      "[WDM] - Downloading: 100%|██████████| 6.81M/6.81M [00:00<00:00, 21.9MB/s]\n"
     ]
    }
   ],
   "source": [
    "from selenium import webdriver\n",
    "import pandas as pd\n",
    "from selenium.webdriver.chrome.options import Options\n",
    "from webdriver_manager.chrome import ChromeDriverManager\n",
    "from selenium.webdriver.common.by import By \n",
    "import time\n",
    "import warnings\n",
    "warnings.filterwarnings('ignore')\n",
    "from selenium.webdriver.common.keys import Keys  \n",
    "import re\n",
    "import urllib.request\n",
    "PATH = ChromeDriverManager().install()"
   ]
  },
  {
   "cell_type": "code",
   "execution_count": 5,
   "metadata": {},
   "outputs": [],
   "source": [
    "opciones=Options()\n",
    "\n",
    "opciones.add_experimental_option('excludeSwitches', ['enable-automation'])\n",
    "opciones.add_experimental_option('useAutomationExtension', False)\n",
    "opciones.headless=False    # si True, no aperece la ventana (headless=no visible)\n",
    "opciones.add_argument('--start-maximized')         # comienza maximizado\n",
    "#opciones.add_argument('user-data-dir=selenium')    # mantiene las cookies\n",
    "# opciones.add_extension('driver_folder/adblock.crx')       # adblocker\n",
    "# opciones.add_argument('--incognito')"
   ]
  },
  {
   "cell_type": "code",
   "execution_count": 9,
   "metadata": {},
   "outputs": [],
   "source": [
    "driver = \"./chromedriver.exe\"        #preguntar diferencia de esto con lo de abajo\n",
    "driver = webdriver.Chrome(driver)"
   ]
  },
  {
   "cell_type": "code",
   "execution_count": 10,
   "metadata": {},
   "outputs": [],
   "source": [
    "url = 'https://en.wikipedia.org/wiki/List_of_works_by_Edward_Hopper'\n",
    "driver=webdriver.Chrome(PATH)\n",
    "driver.get(url)\n",
    "time.sleep(5)"
   ]
  },
  {
   "cell_type": "code",
   "execution_count": 13,
   "metadata": {},
   "outputs": [
    {
     "data": {
      "text/plain": [
       "[['Cylinder',\n",
       "  'Charcoal on paper',\n",
       "  '1894',\n",
       "  'Whitney Museum of American Art',\n",
       "  '37.9 cm × 27.3 cm\\n(14 15/16 in. × 10 3/4 in.)',\n",
       "  '[1]'],\n",
       " ['Sailboats',\n",
       "  'Watercolor, graphite pencil\\non paper',\n",
       "  '1895',\n",
       "  'Whitney Museum of American Art',\n",
       "  '10.8 cm × 12.5 cm\\n(4 1/4 in. × 4 15/16 in.)',\n",
       "  '[2]'],\n",
       " ['At Valley Forge',\n",
       "  'graphite pencil on paper',\n",
       "  '1895',\n",
       "  'Whitney Museum of American Art',\n",
       "  '20 cm × 15.6 cm\\n(7 7/8 in. × 6 1/8 in.)',\n",
       "  '[3]'],\n",
       " ['The Lion at Play',\n",
       "  'Watercolor on paper',\n",
       "  '1896',\n",
       "  'Whitney Museum of American Art',\n",
       "  '10.8 cm × 16.8 cm\\n(4 1/4 in. × 6 5/8 in.)',\n",
       "  '[4]'],\n",
       " ['Painter and Model',\n",
       "  'Oil on canvas',\n",
       "  '1902–1904',\n",
       "  'Whitney Museum of American Art',\n",
       "  '26 cm × 20.6 cm\\n(10 1/4 in. × 8 1/8 in.)',\n",
       "  '[5]'],\n",
       " ['Bridge in Paris',\n",
       "  'Oil on canvas',\n",
       "  '1906',\n",
       "  'Whitney Museum of American Art',\n",
       "  '23.5 cm × 33 cm\\n(9 1/4 in. × 13 in.)',\n",
       "  '[6]'],\n",
       " ['Le Pont des Arts',\n",
       "  'Oil on canvas',\n",
       "  '1907',\n",
       "  'Whitney Museum of American Art',\n",
       "  '60.2 cm × 73.2 cm\\n(23 11/16 in. × 28 13/16 in.)',\n",
       "  '[7]']]"
      ]
     },
     "execution_count": 13,
     "metadata": {},
     "output_type": "execute_result"
    }
   ],
   "source": [
    "driver.find_element(By.TAG_NAME, 'tbody').text.split('\\n')\n",
    "tabla = driver.find_element(By.TAG_NAME, 'tbody')\n",
    "\n",
    "filas = tabla.find_elements(By.TAG_NAME, 'tr')\n",
    "\n",
    "\n",
    "data = []\n",
    "\n",
    "\n",
    "for f in filas:\n",
    "\n",
    "    elems = f.find_elements(By.TAG_NAME, 'td')\n",
    "\n",
    "    tmp = []\n",
    "\n",
    "    for e in elems:\n",
    "        tmp.append(e.text)\n",
    "\n",
    "    data.append(tmp)\n",
    "\n",
    "\n",
    "data = [[e.text for e in f.find_elements(By.TAG_NAME, 'td')] \n",
    "        for f in driver.find_element(By.TAG_NAME, 'tbody').find_elements(By.TAG_NAME, 'tr')]\n",
    "\n",
    "data[:7]"
   ]
  },
  {
   "cell_type": "code",
   "execution_count": 18,
   "metadata": {},
   "outputs": [
    {
     "ename": "AttributeError",
     "evalue": "'list' object has no attribute 'get_attribute'",
     "output_type": "error",
     "traceback": [
      "\u001b[1;31m---------------------------------------------------------------------------\u001b[0m",
      "\u001b[1;31mAttributeError\u001b[0m                            Traceback (most recent call last)",
      "Cell \u001b[1;32mIn[18], line 3\u001b[0m\n\u001b[0;32m      1\u001b[0m data \u001b[39m=\u001b[39m [[e\u001b[39m.\u001b[39mtext \u001b[39mfor\u001b[39;00m e \u001b[39min\u001b[39;00m f\u001b[39m.\u001b[39mfind_elements(By\u001b[39m.\u001b[39mTAG_NAME, \u001b[39m'\u001b[39m\u001b[39mtd\u001b[39m\u001b[39m'\u001b[39m)] \u001b[39mfor\u001b[39;00m f \u001b[39min\u001b[39;00m filas]\n\u001b[0;32m      2\u001b[0m last_row \u001b[39m=\u001b[39m filas[\u001b[39m-\u001b[39m\u001b[39m1\u001b[39m]\n\u001b[1;32m----> 3\u001b[0m last_href \u001b[39m=\u001b[39m last_row\u001b[39m.\u001b[39;49mfind_elements(By\u001b[39m.\u001b[39;49mTAG_NAME, \u001b[39m'\u001b[39;49m\u001b[39ma\u001b[39;49m\u001b[39m'\u001b[39;49m)\u001b[39m.\u001b[39;49mget_attribute(\u001b[39m'\u001b[39m\u001b[39mhref\u001b[39m\u001b[39m'\u001b[39m)\n\u001b[0;32m      4\u001b[0m \u001b[39mprint\u001b[39m(last_href)\n",
      "\u001b[1;31mAttributeError\u001b[0m: 'list' object has no attribute 'get_attribute'"
     ]
    }
   ],
   "source": [
    "data = [[e.text for e in f.find_elements(By.TAG_NAME, 'td')] for f in filas]\n",
    "last_row = filas[-1]\n",
    "last_href = last_row.find_elements(By.TAG_NAME, 'a').get_attribute('href')\n",
    "print(last_href)"
   ]
  },
  {
   "cell_type": "code",
   "execution_count": 16,
   "metadata": {},
   "outputs": [
    {
     "data": {
      "text/html": [
       "<div>\n",
       "<style scoped>\n",
       "    .dataframe tbody tr th:only-of-type {\n",
       "        vertical-align: middle;\n",
       "    }\n",
       "\n",
       "    .dataframe tbody tr th {\n",
       "        vertical-align: top;\n",
       "    }\n",
       "\n",
       "    .dataframe thead th {\n",
       "        text-align: right;\n",
       "    }\n",
       "</style>\n",
       "<table border=\"1\" class=\"dataframe\">\n",
       "  <thead>\n",
       "    <tr style=\"text-align: right;\">\n",
       "      <th></th>\n",
       "      <th>Title</th>\n",
       "      <th>Medium</th>\n",
       "      <th>Date</th>\n",
       "      <th>Collection</th>\n",
       "      <th>Dimensions</th>\n",
       "      <th>Image</th>\n",
       "    </tr>\n",
       "  </thead>\n",
       "  <tbody>\n",
       "    <tr>\n",
       "      <th>144</th>\n",
       "      <td>New York Office</td>\n",
       "      <td>Oil on canvas</td>\n",
       "      <td>1962</td>\n",
       "      <td>Montgomery Museum of Fine Arts</td>\n",
       "      <td></td>\n",
       "      <td>[130]</td>\n",
       "    </tr>\n",
       "    <tr>\n",
       "      <th>145</th>\n",
       "      <td>Intermission</td>\n",
       "      <td>Oil on canvas</td>\n",
       "      <td>1963</td>\n",
       "      <td>San Francisco Museum of Modern Art</td>\n",
       "      <td>101.6 cm × 152.4 cm\\n(40 in. × 60 in.)</td>\n",
       "      <td>[131]</td>\n",
       "    </tr>\n",
       "    <tr>\n",
       "      <th>146</th>\n",
       "      <td>Sun in an Empty Room</td>\n",
       "      <td>Oil on canvas</td>\n",
       "      <td>1963</td>\n",
       "      <td>Private collection</td>\n",
       "      <td></td>\n",
       "      <td>[132]</td>\n",
       "    </tr>\n",
       "    <tr>\n",
       "      <th>147</th>\n",
       "      <td>Chair Car</td>\n",
       "      <td>Oil on canvas</td>\n",
       "      <td>1965</td>\n",
       "      <td>Private collection</td>\n",
       "      <td></td>\n",
       "      <td>[133]</td>\n",
       "    </tr>\n",
       "    <tr>\n",
       "      <th>148</th>\n",
       "      <td>Two Comedians</td>\n",
       "      <td>Oil on canvas</td>\n",
       "      <td>1965</td>\n",
       "      <td>Private collection</td>\n",
       "      <td>73.7 cm × 101.6 cm</td>\n",
       "      <td>[134]</td>\n",
       "    </tr>\n",
       "  </tbody>\n",
       "</table>\n",
       "</div>"
      ],
      "text/plain": [
       "                    Title         Medium  Date   \n",
       "144       New York Office  Oil on canvas  1962  \\\n",
       "145          Intermission  Oil on canvas  1963   \n",
       "146  Sun in an Empty Room  Oil on canvas  1963   \n",
       "147             Chair Car  Oil on canvas  1965   \n",
       "148         Two Comedians  Oil on canvas  1965   \n",
       "\n",
       "                             Collection   \n",
       "144      Montgomery Museum of Fine Arts  \\\n",
       "145  San Francisco Museum of Modern Art   \n",
       "146                  Private collection   \n",
       "147                  Private collection   \n",
       "148                  Private collection   \n",
       "\n",
       "                                 Dimensions  Image  \n",
       "144                                          [130]  \n",
       "145  101.6 cm × 152.4 cm\\n(40 in. × 60 in.)  [131]  \n",
       "146                                          [132]  \n",
       "147                                          [133]  \n",
       "148                      73.7 cm × 101.6 cm  [134]  "
      ]
     },
     "execution_count": 16,
     "metadata": {},
     "output_type": "execute_result"
    }
   ],
   "source": [
    "cabeceras = driver.find_element(By.TAG_NAME, 'thead').text.split()\n",
    "\n",
    "cabeceras\n",
    "hopper_art = pd.DataFrame(data, columns=cabeceras)\n",
    "hopper_art.tail()"
   ]
  },
  {
   "cell_type": "code",
   "execution_count": null,
   "metadata": {},
   "outputs": [],
   "source": []
  },
  {
   "cell_type": "code",
   "execution_count": null,
   "metadata": {},
   "outputs": [],
   "source": []
  },
  {
   "cell_type": "code",
   "execution_count": null,
   "metadata": {},
   "outputs": [],
   "source": []
  }
 ],
 "metadata": {
  "kernelspec": {
   "display_name": "Python 3",
   "language": "python",
   "name": "python3"
  },
  "language_info": {
   "codemirror_mode": {
    "name": "ipython",
    "version": 3
   },
   "file_extension": ".py",
   "mimetype": "text/x-python",
   "name": "python",
   "nbconvert_exporter": "python",
   "pygments_lexer": "ipython3",
   "version": "3.11.3"
  },
  "orig_nbformat": 4
 },
 "nbformat": 4,
 "nbformat_minor": 2
}
